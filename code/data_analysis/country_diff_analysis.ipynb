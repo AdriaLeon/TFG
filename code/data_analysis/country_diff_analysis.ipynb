{
 "cells": [
  {
   "cell_type": "markdown",
   "id": "a4e1d86e",
   "metadata": {},
   "source": [
    "# Imports"
   ]
  },
  {
   "cell_type": "code",
   "execution_count": null,
   "id": "8648b821",
   "metadata": {},
   "outputs": [],
   "source": [
    "import pandas as pd\n",
    "import numpy as np\n",
    "import seaborn as sns\n",
    "import matplotlib.pyplot as plt\n",
    "from collections import Counter"
   ]
  },
  {
   "cell_type": "markdown",
   "id": "e572c0db",
   "metadata": {},
   "source": [
    "# Load Dataset"
   ]
  },
  {
   "cell_type": "code",
   "execution_count": null,
   "id": "392e6989",
   "metadata": {},
   "outputs": [],
   "source": [
    "df = pd.read_csv(\"../dataset/TikTokEuropeanElections_Abortion_War.csv\")"
   ]
  },
  {
   "cell_type": "code",
   "execution_count": null,
   "id": "8d498ffb",
   "metadata": {},
   "outputs": [],
   "source": [
    "df.info()"
   ]
  },
  {
   "cell_type": "markdown",
   "id": "719bf3cc",
   "metadata": {},
   "source": [
    "# Sentiment Score By Country"
   ]
  },
  {
   "cell_type": "markdown",
   "id": "89c777af",
   "metadata": {},
   "source": [
    "## General Study"
   ]
  },
  {
   "cell_type": "markdown",
   "id": "7e4b2b01",
   "metadata": {},
   "source": [
    "- **Count the amount of entries per country**"
   ]
  },
  {
   "cell_type": "code",
   "execution_count": null,
   "id": "d71d9956",
   "metadata": {},
   "outputs": [],
   "source": [
    "country_counts = df['countries'].value_counts()\n",
    "print(country_counts)"
   ]
  },
  {
   "cell_type": "markdown",
   "id": "decfafec",
   "metadata": {},
   "source": [
    "- **Bootstrapped mean for compound sentiment score by country**"
   ]
  },
  {
   "cell_type": "code",
   "execution_count": null,
   "id": "c594227e",
   "metadata": {},
   "outputs": [],
   "source": [
    "# Parameters\n",
    "n_iterations = 1000\n",
    "boot_data = []\n",
    "\n",
    "# Group by 'countries'\n",
    "for country, group in df.groupby('countries'):\n",
    "    scores = group['sentiment_score_compound'].dropna()\n",
    "    \n",
    "    means = []\n",
    "    for _ in range(n_iterations):\n",
    "        sample = scores.sample(n=len(scores), replace=True)\n",
    "        means.append(sample.mean())\n",
    "    \n",
    "    ci_lower = np.percentile(means, 2.5)\n",
    "    ci_upper = np.percentile(means, 97.5)\n",
    "    boot_data.append({\n",
    "        'country': country,\n",
    "        'mean': np.mean(means),\n",
    "        'ci_lower': ci_lower,\n",
    "        'ci_upper': ci_upper\n",
    "    })\n",
    "\n",
    "# Convert to DataFrame\n",
    "boot_df = pd.DataFrame(boot_data)\n",
    "boot_df.sort_values(by='mean', ascending=False, inplace=True)\n",
    "\n",
    "# Plot\n",
    "plot = boot_df.head(15)\n",
    "plt.figure(figsize=(12, 6))\n",
    "plt.bar(plot['country'], plot['mean'], yerr=[plot['mean'] - plot['ci_lower'], plot['ci_upper'] - plot['mean']],\n",
    "        capsize=5, color='skyblue', edgecolor='black')\n",
    "plt.xticks(rotation=45, ha='right')\n",
    "plt.ylabel('Bootstrapped Mean Sentiment Score')\n",
    "plt.title('Mean Sentiment Score with 95% CI')\n",
    "plt.tight_layout()\n",
    "plt.grid(True)\n",
    "plt.show()\n"
   ]
  },
  {
   "cell_type": "markdown",
   "id": "edcc3dc7",
   "metadata": {},
   "source": [
    "- **Compound sentiment score distribution by country**"
   ]
  },
  {
   "cell_type": "code",
   "execution_count": null,
   "id": "100ec8df",
   "metadata": {},
   "outputs": [],
   "source": [
    "plt.figure(figsize=(12, 8))\n",
    "sns.boxplot(data=df, x='countries', y='sentiment_score_compound')\n",
    "plt.xticks(rotation=45)\n",
    "plt.title('Distribution of sentiment_score_compound by country')\n",
    "plt.show()"
   ]
  },
  {
   "cell_type": "markdown",
   "id": "9787b28c",
   "metadata": {},
   "source": [
    "- **Amount of Pos and Neg entries given the Binary Sentiment Score classification**"
   ]
  },
  {
   "cell_type": "code",
   "execution_count": null,
   "id": "ed8f79ec",
   "metadata": {},
   "outputs": [],
   "source": [
    "plt.figure(figsize=(14, 8))\n",
    "sns.countplot(data=df, x='countries', hue='sentiment_score_binary')\n",
    "plt.xticks(rotation=45)\n",
    "plt.title('Distribution of Binary Sentiment Score per Country')\n",
    "plt.show()"
   ]
  },
  {
   "cell_type": "markdown",
   "id": "a899b216",
   "metadata": {},
   "source": [
    "- **Ration Betweenn Pos and Neg entries per country**"
   ]
  },
  {
   "cell_type": "code",
   "execution_count": null,
   "id": "4c221a1d",
   "metadata": {},
   "outputs": [],
   "source": [
    "counts = df.groupby(['countries', 'sentiment_score_binary']).size().unstack(fill_value=0)\n",
    "\n",
    "counts['pos_neg_ratio'] = counts.get(1, 0) / counts.get(-1, 1)\n",
    "\n",
    "print(counts[['pos_neg_ratio']])\n"
   ]
  },
  {
   "cell_type": "markdown",
   "id": "2eb850c4",
   "metadata": {},
   "source": [
    "- **Histogram of the sentiment score compound to see the entries intensity**"
   ]
  },
  {
   "cell_type": "code",
   "execution_count": null,
   "id": "95d9ee11",
   "metadata": {},
   "outputs": [],
   "source": [
    "plot = sns.displot(df, x=\"sentiment_score_compound\", col=\"countries\", col_wrap=4, bins=20, kde=False, facet_kws={'sharex': True, 'sharey': True})\n",
    "plot.fig.suptitle('Histogram of Sentiment Compound Score per Country', y=1.02)\n",
    "plt.show()"
   ]
  },
  {
   "cell_type": "markdown",
   "id": "266ff93a",
   "metadata": {},
   "source": [
    "- **Conclusions of this part**"
   ]
  },
  {
   "cell_type": "markdown",
   "id": "7746f9d4",
   "metadata": {},
   "source": [
    "- **NL**:\n",
    "\n",
    "    - Intensity of sentiment score: Bimodal distribution with an enormous value on 1. Polarization towards positive content.\n",
    "    - Positive/negative ratio: Extremly high (2.2), makes sense with the fact that most of entries are on 1.\n",
    "    - Boxplot: Enormous median (~0.85) with a hight range.\n",
    "    - Polarization: High\n",
    "\n",
    "- **FR**:\n",
    "\n",
    "    - Intensity of sentiment score: Splitted entries, while there is a majority of positive values the emotions aren't extreme.\n",
    "    - Positive/negative ratio: High value (1.7) but reflect that there is more variety of emotions that on NL.\n",
    "    - Boxplot: High median (~0.5) since there is more positive content but not as extreme as in NL.\n",
    "    - Polarization: Average\n",
    "\n",
    "- **ES**:\n",
    "\n",
    "    - Intensity of sentiment score: Very polarized results, while positive content is nearly the double of the negative, most of the entries are on the extremes.\n",
    "    - Positive/negative ratio: High value (1.7) but reflect that there is more variety of extreme emotions that on NL.\n",
    "    - Boxplot: High median (~0.5) since there is more extreme content, both in negative and positive.\n",
    "    - Polarization: High\n",
    "\n",
    "- **PL**:\n",
    "\n",
    "    - Intensity of sentiment score: Bimodal but with more splitted results.\n",
    "    - Positive/negative ratio: Very low value (1.11) due to the fact that most of the neutral content is slightly negative.\n",
    "    - Boxplot: High median (~0.4) showing a more symetric range showcasing the higher amount of neutral content.\n",
    "    - Polarization: Low\n",
    "\n",
    "- **DE**:\n",
    "\n",
    "    - Intensity of sentiment score: High amount of negative content of all intesities and positive content centralized on the positive extreme.\n",
    "    - Positive/negative ratio: Low value (1.14) since there are only extremly positive contents and an enormous amount of negative contents of all intensities.\n",
    "    - Boxplot: High median (~0.2) showcasing the fact that there is a lot of negative content and very dispersed entries.\n",
    "    - Polarization: Average"
   ]
  },
  {
   "cell_type": "markdown",
   "id": "c99f27dd",
   "metadata": {},
   "source": [
    "## Study by topic"
   ]
  },
  {
   "cell_type": "markdown",
   "id": "d8c02eb7",
   "metadata": {},
   "source": [
    "- **Histogram of the sentiment score compound per topic**"
   ]
  },
  {
   "cell_type": "code",
   "execution_count": null,
   "id": "daf89da2",
   "metadata": {},
   "outputs": [],
   "source": [
    "topic_colors = {\n",
    "    'abortion': 'purple',\n",
    "    'war': 'green'\n",
    "}\n",
    "\n",
    "# Get countries and topics\n",
    "countries = df['countries'].unique()\n",
    "topics = df['topic'].unique()\n",
    "\n",
    "# Create subplots\n",
    "n_rows = len(countries)\n",
    "n_cols = len(topics)\n",
    "\n",
    "fig, axes = plt.subplots(n_rows, n_cols, figsize=(20, 20), sharex=True, sharey=True)\n",
    "\n",
    "# Iterate through countries and topics\n",
    "for i, country in enumerate(countries):\n",
    "    for j, topic in enumerate(topics):\n",
    "\n",
    "        subset = df[(df['countries'] == country) & (df['topic'] == topic)]\n",
    "        ax = axes[i][j]    \n",
    "        color = topic_colors.get(topic)\n",
    "        sns.histplot(data=subset, x='sentiment_score_compound', bins=20, kde=False, ax=ax, color=color)\n",
    "\n",
    "        ax.set_title(f\"{country} - {topic}\")\n",
    "        ax.set_xlabel('Sentiment Score')\n",
    "        ax.set_ylabel('Count')\n",
    "\n",
    "sns.set(style=\"whitegrid\")\n",
    "plt.show()"
   ]
  },
  {
   "cell_type": "markdown",
   "id": "8969fba8",
   "metadata": {},
   "source": [
    "- **% of extreme sentiment entries (1, -1) per country and topic**"
   ]
  },
  {
   "cell_type": "code",
   "execution_count": null,
   "id": "fd2bd2df",
   "metadata": {},
   "outputs": [],
   "source": [
    "# Compute total entries per country and topic\n",
    "total_counts = df.groupby(['countries', 'topic']).size().reset_index(name='total_count')\n",
    "\n",
    "# Compute strong positive entries (≥ 0.75)\n",
    "strong_pos = df[df['sentiment_score_compound'] >= 0.75]\n",
    "pos_counts = strong_pos.groupby(['countries', 'topic']).size().reset_index(name='pos_count')\n",
    "\n",
    "# Compute strong negative entries (≤ -0.75)\n",
    "strong_neg = df[df['sentiment_score_compound'] <= -0.75]\n",
    "neg_counts = strong_neg.groupby(['countries', 'topic']).size().reset_index(name='neg_count')\n",
    "\n",
    "# Merge all\n",
    "merged = total_counts.merge(pos_counts, on=['countries', 'topic'], how='left')\n",
    "merged = merged.merge(neg_counts, on=['countries', 'topic'], how='left')\n",
    "\n",
    "# Fill NaNs with 0 (for groups that have only pos or only neg)\n",
    "merged['pos_count'] = merged['pos_count'].fillna(0)\n",
    "merged['neg_count'] = merged['neg_count'].fillna(0)\n",
    "\n",
    "# Compute percentages\n",
    "merged['pos_percent'] = 100 * merged['pos_count'] / merged['total_count']\n",
    "merged['neg_percent'] = 100 * merged['neg_count'] / merged['total_count']\n",
    "\n",
    "# Optional: sort by positive or negative percent\n",
    "merged = merged.sort_values(by='pos_percent', ascending=False)\n",
    "\n",
    "# Display result\n",
    "print(merged[['countries', 'topic', 'pos_percent', 'neg_percent']])\n"
   ]
  },
  {
   "cell_type": "markdown",
   "id": "9c054015",
   "metadata": {},
   "source": [
    "- **Conclusions of this part**"
   ]
  },
  {
   "cell_type": "markdown",
   "id": "bef8b3ca",
   "metadata": {},
   "source": [
    "Most of the extremly negative content (-1) is on War, in all countries the War topic is the one that polarizes the most the tone while on most countries the abortion topic has mixed sentiments with a spike on 1 score.\n",
    "\n",
    "While the % of positive entries (from 0.75 to 1) remains between the War and the Abortion-related content, abortion-related content tends to have a lower amount of extreme negative content than war (except on Spain and Germany on which it remains very similar, this could be due to having more anti-abort movements or for the way people is). \n",
    "\n",
    "War evokes nearly the same amount of intense negative emotions accross countries being the most polarizating.\n",
    "\n",
    "- **WAR**\n",
    "    - Strongly negative emotions\n",
    "    - High polarization\n",
    "- **ABORTION**\n",
    "    - Mixed-Positive emotions\n",
    "    - Moderated polarization"
   ]
  },
  {
   "cell_type": "markdown",
   "id": "9b69e6e8",
   "metadata": {},
   "source": [
    "# Political-Wing Analysis (Presence and topic relation)"
   ]
  },
  {
   "cell_type": "markdown",
   "id": "cc946816",
   "metadata": {},
   "source": [
    "- **% of right and left parties mentioned by country**"
   ]
  },
  {
   "cell_type": "code",
   "execution_count": null,
   "id": "941f7adb",
   "metadata": {},
   "outputs": [],
   "source": [
    "mean_ideology = df.groupby('countries')[['% left', '% right']].mean().reset_index()\n",
    "print(mean_ideology)"
   ]
  },
  {
   "cell_type": "markdown",
   "id": "63dea158",
   "metadata": {},
   "source": [
    "- **Relate the % of the wings mentioned with the mean sentiment score isolated by ideology**"
   ]
  },
  {
   "cell_type": "code",
   "execution_count": null,
   "id": "2943e243",
   "metadata": {},
   "outputs": [],
   "source": [
    "# Drop missing values\n",
    "clean_df = df[['sentiment_score_compound', '% left', '% right']].dropna()\n",
    "\n",
    "# Compute correlations\n",
    "left_corr = clean_df['sentiment_score_compound'].corr(clean_df['% left'])\n",
    "right_corr = clean_df['sentiment_score_compound'].corr(clean_df['% right'])\n",
    "\n",
    "print(f\"Correlation between sentiment score and % left: {left_corr:.3f}\")\n",
    "print(f\"Correlation between sentiment score and % right: {right_corr:.3f}\")\n",
    "\n",
    "\n",
    "fig, axes = plt.subplots(1, 2, figsize=(14, 6), sharey=True)\n",
    "# Left subplot: % Left\n",
    "sns.regplot(data=clean_df, x='% left', y='sentiment_score_compound', ax=axes[0], scatter_kws={'s': 50}, line_kws={'color': 'purple'})\n",
    "axes[0].set_title('Sentiment vs % Left')\n",
    "axes[0].set_xlabel('% Left')\n",
    "axes[0].set_ylabel('Sentiment Score')\n",
    "axes[0].grid(True)\n",
    "\n",
    "# Right subplot: % Right\n",
    "sns.regplot(data=clean_df, x='% right', y='sentiment_score_compound', ax=axes[1], scatter_kws={'s': 50}, line_kws={'color': 'green'})\n",
    "axes[1].set_title('Sentiment vs % Right')\n",
    "axes[1].set_xlabel('% Right')\n",
    "axes[1].grid(True)\n",
    "\n",
    "plt.tight_layout()\n",
    "plt.show()"
   ]
  },
  {
   "cell_type": "markdown",
   "id": "276089e7",
   "metadata": {},
   "source": [
    "- **Sentiment Score for Abortion content grouped by political wings**"
   ]
  },
  {
   "cell_type": "code",
   "execution_count": null,
   "id": "66220bee",
   "metadata": {},
   "outputs": [],
   "source": [
    "abortion_df = df[df['topic'].str.lower() == 'abortion']\n",
    "abortion_clean = abortion_df[['sentiment_score_compound', '% right', '% left']].dropna()\n",
    "\n",
    "# Compute correlations\n",
    "corr_right = abortion_clean['sentiment_score_compound'].corr(abortion_clean['% right'])\n",
    "corr_left = abortion_clean['sentiment_score_compound'].corr(abortion_clean['% left'])\n",
    "\n",
    "print(f\"Correlation between sentiment score and % right (abortion): {corr_right:.3f}\")\n",
    "print(f\"Correlation between sentiment score and % left (abortion):  {corr_left:.3f}\")\n",
    "\n",
    "# Plotting\n",
    "fig, axes = plt.subplots(1, 2, figsize=(14, 6), sharey=True)\n",
    "\n",
    "# Plot for % right\n",
    "sns.regplot(data=abortion_clean, x='% right', y='sentiment_score_compound', ax=axes[0], scatter_kws={'s': 50}, line_kws={'color': 'red'})\n",
    "axes[0].set_title('Sentiment Score vs % Right (Abortion)')\n",
    "axes[0].set_xlabel('% Right')\n",
    "axes[0].set_ylabel('Sentiment Score')\n",
    "axes[0].grid(True)\n",
    "\n",
    "# Plot for % left\n",
    "sns.regplot(data=abortion_clean, x='% left', y='sentiment_score_compound', ax=axes[1], scatter_kws={'s': 50}, line_kws={'color': 'purple'})\n",
    "axes[1].set_title('Sentiment Score vs % Left (Abortion)')\n",
    "axes[1].set_xlabel('% Left')\n",
    "axes[1].grid(True)\n",
    "\n",
    "plt.tight_layout()\n",
    "plt.show()\n"
   ]
  },
  {
   "cell_type": "markdown",
   "id": "140520c1",
   "metadata": {},
   "source": [
    "- **Sentiment Score for War content grouped by political wings**"
   ]
  },
  {
   "cell_type": "code",
   "execution_count": null,
   "id": "310e30a6",
   "metadata": {},
   "outputs": [],
   "source": [
    "war_df = df[df['topic'].str.lower() == 'war']\n",
    "war_clean = war_df[['sentiment_score_compound', '% right', '% left']].dropna()\n",
    "\n",
    "# Compute correlations\n",
    "corr_right = war_clean['sentiment_score_compound'].corr(war_clean['% right'])\n",
    "corr_left = war_clean['sentiment_score_compound'].corr(war_clean['% left'])\n",
    "\n",
    "print(f\"Correlation between sentiment score and % right (war): {corr_right:.3f}\")\n",
    "print(f\"Correlation between sentiment score and % left (war):  {corr_left:.3f}\")\n",
    "\n",
    "# Plotting\n",
    "fig, axes = plt.subplots(1, 2, figsize=(14, 6), sharey=True)\n",
    "\n",
    "# Plot for % right\n",
    "sns.regplot(data=war_clean, x='% right', y='sentiment_score_compound', ax=axes[0], scatter_kws={'s': 50}, line_kws={'color': 'red'})\n",
    "axes[0].set_title('Sentiment Score vs % Right (War)')\n",
    "axes[0].set_xlabel('% Right')\n",
    "axes[0].set_ylabel('Sentiment Score')\n",
    "axes[0].grid(True)\n",
    "\n",
    "# Plot for % left\n",
    "sns.regplot(data=war_clean, x='% left', y='sentiment_score_compound', ax=axes[1], scatter_kws={'s': 50}, line_kws={'color': 'purple'})\n",
    "axes[1].set_title('Sentiment Score vs % Left (War)')\n",
    "axes[1].set_xlabel('% Left')\n",
    "axes[1].grid(True)\n",
    "\n",
    "plt.tight_layout()\n",
    "plt.show()"
   ]
  },
  {
   "cell_type": "markdown",
   "id": "f9530a87",
   "metadata": {},
   "source": [
    "- **Most mentioned political entities by country**"
   ]
  },
  {
   "cell_type": "code",
   "execution_count": null,
   "id": "07759bc7",
   "metadata": {},
   "outputs": [],
   "source": [
    "df['parties_mentioned'] = df['parties_mentioned'].apply(eval)\n",
    "\n",
    "# Initialize result dictionary\n",
    "top_parties_by_country = {}\n",
    "\n",
    "# Loop through each country\n",
    "for country in df['countries'].unique():\n",
    "    country_df = df[df['countries'] == country]\n",
    "\n",
    "    all_parties = sum(country_df['parties_mentioned'], [])  # flattens list of lists\n",
    "    party_counts = Counter(all_parties)\n",
    "    top_5 = party_counts.most_common(5)\n",
    "    top_parties_by_country[country] = top_5\n",
    "\n",
    "# Print results\n",
    "for country, top_parties in top_parties_by_country.items():\n",
    "    print(f\"\\nTop 5 parties in {country}:\")\n",
    "    for party, count in top_parties:\n",
    "        print(f\"  {party}: {count} mentions\")"
   ]
  },
  {
   "cell_type": "markdown",
   "id": "587315f9",
   "metadata": {},
   "source": [
    "- **From which wing are the most mentioned parties?**"
   ]
  },
  {
   "cell_type": "code",
   "execution_count": null,
   "id": "f2bea463",
   "metadata": {},
   "outputs": [],
   "source": [
    "left = [\n",
    "    \"Die Linke\", \"IU\", \"Podemos\", \"PCE\", \"PCF\", \"LFI\", \"PRC\", \"SI\", \"Syriza\",\n",
    "    \"BE\", \"Vänsterpartiet\", \"Vasemmistoliitto\", \"AKEL\", \"PTB\", \"KPÖ\",\n",
    "    \"SP\", \"Enhedslisten\", \"Rødt\", \"PST/POP\", \"PIE\", \"The Left\", \"Razem\", \"EFA\",\n",
    "    \"S&D\", \"Renew Europe\", \"PSOE\", \"Sumar\", \"PES\", \"PS\", \"APSD\", \"SD\", \"SAP\",\n",
    "    \"Labour\", \"SPÖ\", \"Vooruit\", \"SPD\", \"NL\", \"PvdA\", \"Socialist Party\",\n",
    "    \"Democratic Party\", \"Labour\", \"PASOK\", \"SLD\", \"Nouvelle Donne\", \"PRG\",\n",
    "    \"Inicjatywa Polska\", \"Grüne\", \"Greens\"\n",
    "]\n",
    "\n",
    "right = [\n",
    "    \"EPP\", \"ECR\", \"PiS\", \"VOX\", \"ID\", \"RN\", \"Lega\", \"FPÖ\", \"Fidesz\", \"Patriots\", \n",
    "    \"ESN\", \"AfD\", \"Republika\", \"Reconquête\", \"NOWA NADZIEJA\", \"Mi Hazánk\",\n",
    "    \"PP\", \"Partido Popular\", \"CDU\", \"Agir\", \"MoDem\", \"Ensemble\", \"LFA\", \"RE\",\n",
    "    \"LR\", \"CDA\", \"NSC\", \"IDP\", \"CSU\", \"FDP\", \"FW\", \"Junts\", \"ZP\", \"NPD\", \"PVV\",\n",
    "    \"FvD\", \"European People's Party\", \"Progressive Alliance of Socialists & Democrats\"\n",
    "]"
   ]
  },
  {
   "cell_type": "code",
   "execution_count": null,
   "id": "109f9dda",
   "metadata": {},
   "outputs": [],
   "source": [
    "all_parties = sum(df['parties_mentioned'], [])  # flattens list of lists\n",
    "party_counts = Counter(all_parties)\n",
    "\n",
    "# Get the 20 most mentioned parties\n",
    "top_20_parties = party_counts.most_common(20)\n",
    "\n",
    "# Initialize dictionaries to store the country with the most mentions and the political wing\n",
    "party_country_dict = {}\n",
    "party_wing_dict = {}\n",
    "\n",
    "# Loop through each country to find where each party was mentioned the most\n",
    "for country in df['countries'].unique():\n",
    "    country_df = df[df['countries'] == country]\n",
    "    country_parties = sum(country_df['parties_mentioned'], [])\n",
    "    country_party_counts = Counter(country_parties)\n",
    "    \n",
    "    for party in country_party_counts:\n",
    "        # If the party is in the top 20, update the country with the most mentions for that party\n",
    "        if party in dict(top_20_parties):\n",
    "            if party not in party_country_dict or country_party_counts[party] > party_country_dict[party][1]:\n",
    "                party_country_dict[party] = (country, country_party_counts[party])\n",
    "                \n",
    "                # Determine the political wing based on the lists\n",
    "                if party in left:\n",
    "                    party_wing_dict[party] = 'left'\n",
    "                elif party in right:\n",
    "                    party_wing_dict[party] = 'right'\n",
    "                else:\n",
    "                    party_wing_dict[party] = 'Unknown'  # If the party is not in either list\n",
    "\n",
    "# Print the top 20 parties, their mentions, political wing, and the country that named them the most\n",
    "print(\"Top 20 Most Mentioned Political Parties:\")\n",
    "\n",
    "for party, count in top_20_parties:\n",
    "    most_mentioned_country, mentions_in_country = party_country_dict[party]\n",
    "    political_wing = party_wing_dict.get(party, 'Unknown')  # Default to 'Unknown' if no wing found\n",
    "    print(f\"{party} ({political_wing}): {count} mentions, most mentioned in {most_mentioned_country} ({mentions_in_country} mentions)\")"
   ]
  }
 ],
 "metadata": {
  "kernelspec": {
   "display_name": ".venv",
   "language": "python",
   "name": "python3"
  },
  "language_info": {
   "codemirror_mode": {
    "name": "ipython",
    "version": 3
   },
   "file_extension": ".py",
   "mimetype": "text/x-python",
   "name": "python",
   "nbconvert_exporter": "python",
   "pygments_lexer": "ipython3",
   "version": "3.12.3"
  }
 },
 "nbformat": 4,
 "nbformat_minor": 5
}
