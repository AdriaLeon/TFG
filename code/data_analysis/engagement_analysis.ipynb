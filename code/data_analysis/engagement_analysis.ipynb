{
 "cells": [
  {
   "cell_type": "markdown",
   "id": "e244fae4",
   "metadata": {},
   "source": [
    "# Imports"
   ]
  },
  {
   "cell_type": "code",
   "execution_count": null,
   "id": "040949fb",
   "metadata": {},
   "outputs": [],
   "source": [
    "import matplotlib.pyplot as plt\n",
    "import pandas as pd\n",
    "import seaborn as sns"
   ]
  },
  {
   "cell_type": "markdown",
   "id": "af076650",
   "metadata": {},
   "source": [
    "# Load dataset"
   ]
  },
  {
   "cell_type": "code",
   "execution_count": null,
   "id": "728471bc",
   "metadata": {},
   "outputs": [],
   "source": [
    "df = pd.read_csv(\"../dataset/TikTokEuropeanElections_Abortion_War.csv\")"
   ]
  },
  {
   "cell_type": "markdown",
   "id": "276fefa5",
   "metadata": {},
   "source": [
    "# Engagement analysis"
   ]
  },
  {
   "cell_type": "markdown",
   "id": "1a9f708c",
   "metadata": {},
   "source": [
    "- **Sentiment Score vs Engagement: All data**"
   ]
  },
  {
   "cell_type": "code",
   "execution_count": null,
   "id": "5d55b35a",
   "metadata": {},
   "outputs": [],
   "source": [
    "# Subset of the relevant columns\n",
    "cols = ['sentiment_score_compound', 'likes', 'followers', 'average_order']\n",
    "subset = df[cols].dropna()\n",
    "\n",
    "# Plot\n",
    "fig, axes = plt.subplots(1,3, figsize=(18, 5))\n",
    "sns.regplot(data=subset, x='average_order', y='sentiment_score_compound', ax=axes[0], scatter_kws={'alpha':0.3})\n",
    "axes[0].set_title('Sentiment vs. Average Order')\n",
    "sns.regplot(data=subset, x='likes', y='sentiment_score_compound', ax=axes[1], scatter_kws={'alpha':0.3})\n",
    "axes[1].set_title('Sentiment vs. Likes')\n",
    "sns.regplot(data=subset, x='followers', y='sentiment_score_compound', ax=axes[2], scatter_kws={'alpha':0.3})\n",
    "axes[2].set_title('Sentiment vs. Followers')\n",
    "plt.tight_layout()\n",
    "plt.show()"
   ]
  },
  {
   "cell_type": "markdown",
   "id": "f7845d19",
   "metadata": {},
   "source": [
    "- **Sentiment Score vs Engagement: Remove outliers Q1=25% and Q3=75%**"
   ]
  },
  {
   "cell_type": "code",
   "execution_count": null,
   "id": "ab7763fd",
   "metadata": {},
   "outputs": [],
   "source": [
    "# Subset of relevant columns\n",
    "cols = ['sentiment_score_compound', 'likes', 'followers', 'average_order']\n",
    "subset = df[cols].dropna()\n",
    "\n",
    "# Function to remove outliers using IQR\n",
    "def remove_outliers_iqr(df, columns):\n",
    "    filtered_df = df.copy()\n",
    "    for col in columns:\n",
    "        Q1 = filtered_df[col].quantile(0.25)\n",
    "        Q3 = filtered_df[col].quantile(0.75)\n",
    "        IQR = Q3 - Q1\n",
    "        lower_bound = Q1 - 1.5 * IQR\n",
    "        upper_bound = Q3 + 1.5 * IQR\n",
    "        filtered_df = filtered_df[(filtered_df[col] >= lower_bound) & (filtered_df[col] <= upper_bound)]\n",
    "    return filtered_df\n",
    "\n",
    "# Remove outliers from the subset\n",
    "filtered_subset = remove_outliers_iqr(subset, ['likes', 'followers', 'average_order'])\n",
    "\n",
    "# Plot\n",
    "fig, axes = plt.subplots(1, 3, figsize=(18, 5))\n",
    "sns.regplot(data=filtered_subset, x='average_order', y='sentiment_score_compound', ax=axes[0], scatter_kws={'alpha':0.3})\n",
    "axes[0].set_title('Sentiment vs. Average Order')\n",
    "sns.regplot(data=filtered_subset, x='likes', y='sentiment_score_compound', ax=axes[1], scatter_kws={'alpha':0.3})\n",
    "axes[1].set_title('Sentiment vs. Likes')\n",
    "sns.regplot(data=filtered_subset, x='followers', y='sentiment_score_compound', ax=axes[2], scatter_kws={'alpha':0.3})\n",
    "axes[2].set_title('Sentiment vs. Followers')\n",
    "plt.tight_layout()\n",
    "plt.show()"
   ]
  },
  {
   "cell_type": "markdown",
   "id": "e1f21806",
   "metadata": {},
   "source": [
    "- **Relation between the political wing mentions and engagement**"
   ]
  },
  {
   "cell_type": "code",
   "execution_count": null,
   "id": "61c15644",
   "metadata": {},
   "outputs": [],
   "source": [
    "# Group by %left\n",
    "mean_by_ideology = df.groupby('% left')[['likes', 'followers']].mean().reset_index()\n",
    "\n",
    "# Plot\n",
    "plt.figure(figsize=(12, 5))\n",
    "\n",
    "plt.subplot(1, 2, 1)\n",
    "plt.plot(mean_by_ideology['% left'], mean_by_ideology['likes'], color='blue')\n",
    "plt.title('Mean Likes by % Left')\n",
    "plt.xlabel('% Left')\n",
    "plt.ylabel('Mean Likes')\n",
    "\n",
    "plt.subplot(1, 2, 2)\n",
    "plt.plot(mean_by_ideology['% left'], mean_by_ideology['followers'], color='green')\n",
    "plt.title('Mean Followers by % Left')\n",
    "plt.xlabel('% Left')\n",
    "plt.ylabel('Mean Followers')\n",
    "\n",
    "plt.tight_layout()\n",
    "plt.show()"
   ]
  },
  {
   "cell_type": "markdown",
   "id": "9ac3dd05",
   "metadata": {},
   "source": [
    "- **Relating subjectivity score to engagement**"
   ]
  },
  {
   "cell_type": "code",
   "execution_count": null,
   "id": "1bba4fb7",
   "metadata": {},
   "outputs": [],
   "source": [
    "# Drop rows with missing values in the relevant columns\n",
    "df_clean = df[['subjectivity_score', 'average_order', 'likes', 'followers']].dropna()\n",
    "\n",
    "# Correlation between subjectivity and other variables\n",
    "correlation_order = df_clean['subjectivity_score'].corr(df_clean['average_order'])\n",
    "correlation_likes = df_clean['subjectivity_score'].corr(df_clean['likes'])\n",
    "correlation_followers = df_clean['subjectivity_score'].corr(df_clean['followers'])\n",
    "\n",
    "print(f\"Correlation between subjectivity and order of appearance: {correlation_order:.3f}\")\n",
    "print(f\"Correlation between subjectivity and likes: {correlation_likes:.3f}\")\n",
    "print(f\"Correlation between subjectivity and followers: {correlation_followers:.3f}\")\n",
    "\n",
    "# Plot\n",
    "plt.figure(figsize=(14, 6))\n",
    "\n",
    "# Plot Subjectivity vs Order of Appearance\n",
    "plt.subplot(1, 3, 1)\n",
    "sns.regplot(data=df_clean, x='average_order', y='subjectivity_score', scatter_kws={'alpha':0.3}, line_kws={'color': 'red'})\n",
    "plt.title('Subjectivity vs Order of Appearance')\n",
    "plt.xlabel('Order of Appearance')\n",
    "plt.ylabel('Subjectivity')\n",
    "\n",
    "# Plot Subjectivity vs Likes\n",
    "plt.subplot(1, 3, 2)\n",
    "sns.regplot(data=df_clean, x='likes', y='subjectivity_score', scatter_kws={'alpha':0.3}, line_kws={'color': 'red'})\n",
    "plt.title('Subjectivity vs Likes')\n",
    "plt.xlabel('Likes')\n",
    "plt.ylabel('Subjectivity')\n",
    "\n",
    "# Plot Subjectivity vs Followers\n",
    "plt.subplot(1, 3, 3)\n",
    "sns.regplot(data=df_clean, x='followers', y='subjectivity_score', scatter_kws={'alpha':0.3}, line_kws={'color': 'red'})\n",
    "plt.title('Subjectivity vs Followers')\n",
    "plt.xlabel('Followers')\n",
    "plt.ylabel('Subjectivity')\n",
    "\n",
    "plt.tight_layout()\n",
    "plt.show()"
   ]
  },
  {
   "cell_type": "markdown",
   "id": "c81a6998",
   "metadata": {},
   "source": [
    "- **Relating subjectivity score to engagement without outliers**"
   ]
  },
  {
   "cell_type": "code",
   "execution_count": null,
   "id": "2619fd82",
   "metadata": {},
   "outputs": [],
   "source": [
    "# Drop rows with missing values in the relevant columns\n",
    "df_clean = df[['subjectivity_score', 'average_order', 'likes', 'followers']].dropna()\n",
    "\n",
    "def remove_outliers_iqr(df, columns):\n",
    "    filtered_df = df.copy()\n",
    "    for col in columns:\n",
    "        Q1 = filtered_df[col].quantile(0.25)\n",
    "        Q3 = filtered_df[col].quantile(0.75)\n",
    "        IQR = Q3 - Q1\n",
    "        lower_bound = Q1 - 1.5 * IQR\n",
    "        upper_bound = Q3 + 1.5 * IQR\n",
    "        filtered_df = filtered_df[(filtered_df[col] >= lower_bound) & (filtered_df[col] <= upper_bound)]\n",
    "    return filtered_df\n",
    "\n",
    "df_clean = remove_outliers_iqr(df_clean, ['subjectivity_score', 'average_order', 'likes', 'followers'])\n",
    "\n",
    "# Correlation between subjectivity and other variables\n",
    "correlation_order = df_clean['subjectivity_score'].corr(df_clean['average_order'])\n",
    "correlation_likes = df_clean['subjectivity_score'].corr(df_clean['likes'])\n",
    "correlation_followers = df_clean['subjectivity_score'].corr(df_clean['followers'])\n",
    "\n",
    "print(f\"Correlation between subjectivity and order of appearance: {correlation_order:.3f}\")\n",
    "print(f\"Correlation between subjectivity and likes: {correlation_likes:.3f}\")\n",
    "print(f\"Correlation between subjectivity and followers: {correlation_followers:.3f}\")\n",
    "\n",
    "# Plot\n",
    "plt.figure(figsize=(14, 6))\n",
    "\n",
    "# Plot Subjectivity vs Order of Appearance\n",
    "plt.subplot(1, 3, 1)\n",
    "sns.regplot(data=df_clean, x='average_order', y='subjectivity_score', scatter_kws={'alpha':0.3}, line_kws={'color': 'red'})\n",
    "plt.title('Subjectivity vs Order of Appearance')\n",
    "plt.xlabel('Order of Appearance')\n",
    "plt.ylabel('Subjectivity')\n",
    "\n",
    "# Plot Subjectivity vs Likes\n",
    "plt.subplot(1, 3, 2)\n",
    "sns.regplot(data=df_clean, x='likes', y='subjectivity_score', scatter_kws={'alpha':0.3}, line_kws={'color': 'red'})\n",
    "plt.title('Subjectivity vs Likes')\n",
    "plt.xlabel('Likes')\n",
    "plt.ylabel('Subjectivity')\n",
    "\n",
    "# Plot Subjectivity vs Followers\n",
    "plt.subplot(1, 3, 3)\n",
    "sns.regplot(data=df_clean, x='followers', y='subjectivity_score', scatter_kws={'alpha':0.3}, line_kws={'color': 'red'})\n",
    "plt.title('Subjectivity vs Followers')\n",
    "plt.xlabel('Followers')\n",
    "plt.ylabel('Subjectivity')\n",
    "\n",
    "plt.tight_layout()\n",
    "plt.show()"
   ]
  }
 ],
 "metadata": {
  "kernelspec": {
   "display_name": ".venv",
   "language": "python",
   "name": "python3"
  },
  "language_info": {
   "codemirror_mode": {
    "name": "ipython",
    "version": 3
   },
   "file_extension": ".py",
   "mimetype": "text/x-python",
   "name": "python",
   "nbconvert_exporter": "python",
   "pygments_lexer": "ipython3",
   "version": "3.12.3"
  }
 },
 "nbformat": 4,
 "nbformat_minor": 5
}
