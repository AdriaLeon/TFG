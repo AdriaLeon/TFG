{
 "cells": [
  {
   "cell_type": "markdown",
   "metadata": {},
   "source": [
    "Import the Empath library"
   ]
  },
  {
   "cell_type": "code",
   "execution_count": null,
   "metadata": {},
   "outputs": [],
   "source": [
    "from empath import Empath\n",
    "lexicon = Empath()"
   ]
  },
  {
   "cell_type": "markdown",
   "metadata": {},
   "source": [
    "Import the DataFrame"
   ]
  },
  {
   "cell_type": "code",
   "execution_count": null,
   "metadata": {},
   "outputs": [],
   "source": [
    "import pandas as pd\n",
    "df = pd.read_csv(\"sentiment_subjectivity.csv\")\n",
    "df.head()"
   ]
  },
  {
   "cell_type": "markdown",
   "metadata": {},
   "source": [
    "Create new categories"
   ]
  },
  {
   "cell_type": "code",
   "execution_count": null,
   "metadata": {},
   "outputs": [],
   "source": [
    "def create_custom_categories():\n",
    "    categories = {\n",
    "        \"pro_stance\" :  [\"support\", \"approval\", \"agreement\", \"endorsement\", \"favor\", \"positive_opinion\", \"advocate\", \"in_favor\", \"backing\"], # Adding my own words per category\n",
    "        \"moral_dilemma\": [\"ethics\", \"morality\", \"controversy\", \"decision_making\", \"right_vs_wrong\"],\n",
    "        \"misinformation\": [\"fake_news\", \"disinformation\", \"propaganda\", \"conspiracy\", \"false_claims\"],\n",
    "        \"human_rights\": [\"freedom\", \"equality\", \"discrimination\", \"justice\", \"civil_rights\"],\n",
    "        \"abortion_rights\": [\"pro_choice\", \"pro_life\", \"reproductive_rights\", \"bodily_autonomy\", \"abortion_laws\"],\n",
    "        \"war_justification\": [\"military_intervention\", \"self_defense\", \"war_crimes\", \"peace_treaty\", \"conflict_resolution\"],\n",
    "        \"womens_rights\": [\"gender_equality\", \"feminism\", \"reproductive_rights\", \"pay_gap\", \"domestic_violence\"]\n",
    "    }\n",
    "\n",
    "    model = \"nytimes\"  # Using \"nytimes\" for a more policy-related vocabulary\n",
    "\n",
    "    for category, keywords in categories.items():\n",
    "        lexicon.create_category(category, keywords, model=model)\n"
   ]
  },
  {
   "cell_type": "code",
   "execution_count": null,
   "metadata": {},
   "outputs": [],
   "source": [
    "create_custom_categories()"
   ]
  },
  {
   "cell_type": "markdown",
   "metadata": {},
   "source": [
    "List of all the expected categories"
   ]
  },
  {
   "cell_type": "code",
   "execution_count": null,
   "metadata": {},
   "outputs": [],
   "source": [
    "# Add already existing Empath categories to the ones I created\n",
    "categories = [\n",
    "    \"pain\", \"movement\", \"negative_emotion\", \"religion\", \"violence\", \"government\", \n",
    "    \"independence\", \"fear\", \"trust\", \"leader\", \"pro_stance\", \"moral_dilemma\", \n",
    "    \"misinformation\", \"human_rights\", \"abortion_rights\", \"war_justification\", \"womens_rights\"\n",
    "]"
   ]
  },
  {
   "cell_type": "markdown",
   "metadata": {},
   "source": [
    "Execute the content analysis for the dataset"
   ]
  },
  {
   "cell_type": "code",
   "execution_count": null,
   "metadata": {},
   "outputs": [],
   "source": [
    "def analyze_text(text):\n",
    "    if pd.isna(text):  # Handle null values\n",
    "        return {category: 0.0 for category in categories}\n",
    "    return lexicon.analyze(text, categories=categories, normalize=True)"
   ]
  },
  {
   "cell_type": "code",
   "execution_count": null,
   "metadata": {},
   "outputs": [],
   "source": [
    "# Apply the function to the 'captions' column and create a new DataFrame\n",
    "analysis_results = df[\"captions\"].apply(analyze_text).apply(pd.Series)\n",
    "\n",
    "# Merge results with original DataFrame\n",
    "df = pd.concat([df, analysis_results], axis=1)\n",
    "\n",
    "df.head()"
   ]
  },
  {
   "cell_type": "markdown",
   "metadata": {},
   "source": [
    "Adding the \"Topic\" column"
   ]
  },
  {
   "cell_type": "code",
   "execution_count": null,
   "metadata": {},
   "outputs": [],
   "source": [
    "import pandas as pd\n",
    "\n",
    "# Keywords for war and abortion topics\n",
    "war_keywords = [\"Putin\", \"war\", \"anti-war\"]\n",
    "abortion_keywords = [\"abortion\", \"anti-abortion\"]\n",
    "\n",
    "# Function to determine the topic based on search queries\n",
    "def determine_topic(search_queries):\n",
    "    if pd.isna(search_queries):\n",
    "        return None\n",
    "    search_queries = str(search_queries).lower()  # Convert to lowercase to handle case-insensitivity\n",
    "    if any(keyword.lower() in search_queries for keyword in war_keywords):\n",
    "        return \"war\"\n",
    "    elif any(keyword.lower() in search_queries for keyword in abortion_keywords):\n",
    "        return \"abortion\"\n",
    "    return None"
   ]
  },
  {
   "cell_type": "code",
   "execution_count": null,
   "metadata": {},
   "outputs": [],
   "source": [
    "# Create the 'topic' column\n",
    "df['topic'] = df['search_queries'].apply(determine_topic)\n",
    "\n",
    "df.head()"
   ]
  },
  {
   "cell_type": "markdown",
   "metadata": {},
   "source": [
    "Export the result"
   ]
  },
  {
   "cell_type": "code",
   "execution_count": null,
   "metadata": {},
   "outputs": [],
   "source": [
    "df.to_csv(\"content_analysis.csv\", index=False)"
   ]
  }
 ],
 "metadata": {
  "kernelspec": {
   "display_name": "Python 3",
   "language": "python",
   "name": "python3"
  },
  "language_info": {
   "codemirror_mode": {
    "name": "ipython",
    "version": 3
   },
   "file_extension": ".py",
   "mimetype": "text/x-python",
   "name": "python",
   "nbconvert_exporter": "python",
   "pygments_lexer": "ipython3",
   "version": "3.10.12"
  }
 },
 "nbformat": 4,
 "nbformat_minor": 2
}
