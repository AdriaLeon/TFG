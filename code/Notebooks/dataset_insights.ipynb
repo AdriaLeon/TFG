{
 "cells": [
  {
   "cell_type": "markdown",
   "metadata": {},
   "source": [
    "Import the dataset"
   ]
  },
  {
   "cell_type": "code",
   "execution_count": null,
   "metadata": {},
   "outputs": [],
   "source": [
    "import pandas as pd\n",
    "df = pd.read_csv(\"final_dataset.csv\")\n",
    "df.head()"
   ]
  },
  {
   "cell_type": "code",
   "execution_count": null,
   "metadata": {},
   "outputs": [],
   "source": [
    "df.info()"
   ]
  },
  {
   "cell_type": "markdown",
   "metadata": {},
   "source": [
    "# Correlation Matrix"
   ]
  },
  {
   "cell_type": "markdown",
   "metadata": {},
   "source": [
    "Discard the non-numeric data before generating it"
   ]
  },
  {
   "cell_type": "code",
   "execution_count": null,
   "metadata": {},
   "outputs": [],
   "source": [
    "import pandas as pd\n",
    "import seaborn as sns\n",
    "import matplotlib.pyplot as plt\n",
    "\n",
    "# Keep only numeric columns\n",
    "numeric_df = df.select_dtypes(include=['number'])\n",
    "\n",
    "# Compute the correlation matrix\n",
    "# correlation_matrix = numeric_df.corr()\n",
    "correlation_matrix = numeric_df.corr(method=\"spearman\")\n",
    "\n",
    "# Plot the heatmap\n",
    "plt.figure(figsize=(10, 6))\n",
    "sns.heatmap(correlation_matrix, annot=True, cmap=\"coolwarm\", fmt=\".2f\", linewidths=0.5)\n",
    "plt.title(\"Correlation Matrix Heatmap\")\n",
    "plt.show()\n"
   ]
  },
  {
   "cell_type": "markdown",
   "metadata": {},
   "source": [
    "# Correlate each of the feature to the political ideology of the content"
   ]
  },
  {
   "cell_type": "code",
   "execution_count": null,
   "metadata": {},
   "outputs": [],
   "source": [
    "import pandas as pd\n",
    "\n",
    "# Encode ideology: left = -1, right = 1\n",
    "df[\"ideology_encoded\"] = df[\"ideology\"].map({\"left\": -1, \"right\": 1})\n",
    "\n",
    "# Select only numerical columns for correlation\n",
    "features = [\n",
    "    \"sentiment_score\", \"subjectivity\", \"pain\", \"movement\", \"negative_emotion\", \n",
    "    \"religion\", \"violence\", \"government\", \"independence\", \"fear\", \"trust\", \n",
    "    \"leader\", \"pro_stance\", \"moral_dilemma\", \"misinformation\", \"human_rights\", \n",
    "    \"abortion_rights\", \"war_justification\", \"womens_rights\", \"likes\", \"followers\"\n",
    "]\n",
    "\n",
    "# Compute correlation with ideology\n",
    "correlation_with_ideology = df[features + [\"ideology_encoded\"]].corr()[\"ideology_encoded\"].sort_values(ascending=False)\n",
    "\n",
    "# Display correlation results\n",
    "print(correlation_with_ideology)\n"
   ]
  },
  {
   "cell_type": "code",
   "execution_count": null,
   "metadata": {},
   "outputs": [],
   "source": [
    "import seaborn as sns\n",
    "import matplotlib.pyplot as plt\n",
    "\n",
    "# Create a figure\n",
    "plt.figure(figsize=(10, 8))\n",
    "\n",
    "# Plot correlations as a horizontal bar chart\n",
    "sns.barplot(\n",
    "    x=correlation_with_ideology.values, \n",
    "    y=correlation_with_ideology.index, \n",
    "    hue=correlation_with_ideology.index,  # Assign hue based on features\n",
    "    palette=\"coolwarm\",  # Use color palette\n",
    "    dodge=False  # No separation between bars, just color variations\n",
    ")\n",
    "\n",
    "# Add title and labels\n",
    "plt.title(\"Correlation Between Features and Ideology (Left = -1, Right = 1)\", fontsize=14)\n",
    "plt.xlabel(\"Correlation Coefficient\", fontsize=12)\n",
    "plt.ylabel(\"Features\", fontsize=12)\n",
    "plt.axvline(x=0, color=\"black\", linestyle=\"--\")  # Add a reference line at 0\n",
    "plt.grid(axis=\"x\", linestyle=\"--\", alpha=0.6)\n",
    "\n",
    "# Show the plot\n",
    "plt.show()\n"
   ]
  },
  {
   "cell_type": "markdown",
   "metadata": {},
   "source": [
    "# Visibility order and topics"
   ]
  },
  {
   "cell_type": "code",
   "execution_count": null,
   "metadata": {},
   "outputs": [],
   "source": [
    "df.info()"
   ]
  },
  {
   "cell_type": "code",
   "execution_count": null,
   "metadata": {},
   "outputs": [],
   "source": [
    "import seaborn as sns\n",
    "import matplotlib.pyplot as plt\n",
    "\n",
    "# List of features to correlate with average_order\n",
    "values_to_relate = [\n",
    "    \"sentiment_score\", \"subjectivity\", \"pain\", \"movement\", \"negative_emotion\", \n",
    "    \"religion\", \"violence\", \"government\", \"independence\", \"fear\", \"trust\", \n",
    "    \"leader\", \"pro_stance\", \"moral_dilemma\", \"misinformation\", \"human_rights\", \n",
    "    \"abortion_rights\", \"war_justification\", \"womens_rights\", \"likes\", \"followers\"\n",
    "]\n",
    "\n",
    "# Compute correlation of average_order with these features\n",
    "correlation_with_average_order = df[values_to_relate + [\"average_order\"]].corr()[\"average_order\"].sort_values(ascending=False)\n",
    "\n",
    "# Display correlation results\n",
    "print(correlation_with_average_order)\n",
    "\n",
    "# Plot correlations with average_order as a horizontal bar chart\n",
    "plt.figure(figsize=(10, 8))\n",
    "sns.barplot(\n",
    "    x=correlation_with_average_order.values, \n",
    "    y=correlation_with_average_order.index, \n",
    "    palette=\"coolwarm\"\n",
    ")\n",
    "\n",
    "# Add title and labels\n",
    "plt.title(\"Correlation Between Features and Average Order\", fontsize=14)\n",
    "plt.xlabel(\"Correlation Coefficient\", fontsize=12)\n",
    "plt.ylabel(\"Features\", fontsize=12)\n",
    "plt.axvline(x=0, color=\"black\", linestyle=\"--\")  # Reference line at 0\n",
    "plt.grid(axis=\"x\", linestyle=\"--\", alpha=0.6)\n",
    "\n",
    "# Show the plot\n",
    "plt.show()\n",
    "\n",
    "# TODO: Quitar los no significantes\n"
   ]
  },
  {
   "cell_type": "markdown",
   "metadata": {},
   "source": [
    "# How does each country talk about each topic?"
   ]
  },
  {
   "cell_type": "markdown",
   "metadata": {},
   "source": [
    "Top 1 per country"
   ]
  },
  {
   "cell_type": "code",
   "execution_count": null,
   "metadata": {},
   "outputs": [],
   "source": [
    "# List of emotion-related columns\n",
    "emotion_columns = [\n",
    "    \"negative_emotion\", \"fear\", \"trust\", \"pain\", \"movement\", \"religion\", \"violence\",\n",
    "    \"government\", \"independence\", \"leader\", \"pro_stance\", \"moral_dilemma\", \"misinformation\",\n",
    "    \"human_rights\", \"abortion_rights\", \"war_justification\", \"womens_rights\"\n",
    "]\n",
    "\n",
    "# Create a function to get the most common emotion for each country and topic\n",
    "def get_most_common_emotion(group):\n",
    "    # Calculate the mean for each emotion column\n",
    "    mean_emotions = group[emotion_columns].mean()\n",
    "    \n",
    "    # Find the emotion with the highest average value\n",
    "    most_common_emotion = mean_emotions.idxmax()\n",
    "    highest_value = mean_emotions.max()\n",
    "    \n",
    "    return pd.Series({\n",
    "        'most_common_emotion': most_common_emotion,\n",
    "        'emotion_value': highest_value\n",
    "    })\n",
    "\n",
    "# Apply the function to group by country and topic\n",
    "common_emotions = df.groupby(['countries', 'topic']).apply(get_most_common_emotion).reset_index()\n",
    "\n",
    "# Create a pivot table for the heatmap visualization\n",
    "pivot_table = common_emotions.pivot(index=\"countries\", columns=\"topic\", values=\"most_common_emotion\")\n",
    "\n",
    "# Create a numeric mapping for the emotions (only for heatmap coloring purposes)\n",
    "emotion_map = {emotion: idx for idx, emotion in enumerate(emotion_columns)}\n",
    "\n",
    "# Map the emotions in the common_emotions DataFrame to their numeric values for visualization\n",
    "common_emotions['emotion_numeric'] = common_emotions['most_common_emotion'].map(emotion_map)\n",
    "\n",
    "# Create a pivot table with numeric emotion values\n",
    "pivot_table_numeric = common_emotions.pivot(index=\"countries\", columns=\"topic\", values=\"emotion_numeric\")\n",
    "\n",
    "# Visualize as a heatmap with numeric values (using annotations for emotion names)\n",
    "plt.figure(figsize=(12, 8))\n",
    "sns.heatmap(pivot_table_numeric, annot=pivot_table, cmap=\"coolwarm\", cbar=True, fmt=\"s\", \n",
    "            linewidths=0.5, annot_kws={\"size\": 8})\n",
    "plt.title(\"Most Common Emotion by Country and Topic\")\n",
    "plt.xlabel(\"Topic\")\n",
    "plt.ylabel(\"Country\")\n",
    "plt.show()\n"
   ]
  },
  {
   "cell_type": "markdown",
   "metadata": {},
   "source": [
    "Top 5 per country"
   ]
  },
  {
   "cell_type": "code",
   "execution_count": null,
   "metadata": {},
   "outputs": [],
   "source": [
    "import matplotlib.pyplot as plt\n",
    "import pandas as pd\n",
    "\n",
    "# List of emotion-related columns\n",
    "emotion_columns = [\n",
    "    \"negative_emotion\", \"fear\", \"trust\", \"pain\", \"movement\", \"religion\", \"violence\",\n",
    "    \"government\", \"independence\", \"leader\", \"pro_stance\", \"moral_dilemma\", \"misinformation\",\n",
    "    \"human_rights\", \"abortion_rights\", \"war_justification\", \"womens_rights\"\n",
    "]\n",
    "\n",
    "# Create a function to get the top 5 emotions for each country and topic\n",
    "def get_top_5_emotions(group):\n",
    "    # Calculate the mean for each emotion column\n",
    "    mean_emotions = group[emotion_columns].mean()\n",
    "    \n",
    "    # Sort the emotions by their average value in descending order\n",
    "    sorted_emotions = mean_emotions.sort_values(ascending=False)\n",
    "    \n",
    "    # Get the top 5 emotions\n",
    "    top_5_emotions = sorted_emotions.head(5)\n",
    "    \n",
    "    return pd.Series({\n",
    "        'top_5_emotions': top_5_emotions.index.tolist(),\n",
    "        'top_5_values': top_5_emotions.values.tolist()\n",
    "    })\n",
    "\n",
    "# Apply the function to group by country and topic\n",
    "top_emotions = df.groupby(['countries', 'topic']).apply(get_top_5_emotions).reset_index()\n",
    "\n",
    "# Create a table that lists the top 5 emotions\n",
    "top_emotions_table = top_emotions.pivot(index=\"countries\", columns=\"topic\", values=\"top_5_emotions\")\n",
    "\n",
    "# Format the table to display emotions as comma-separated strings\n",
    "top_emotions_table = top_emotions_table.applymap(lambda x: \", \".join(x))\n",
    "\n",
    "# Plotting the top emotions as a table\n",
    "fig, ax = plt.subplots(figsize=(12, 8))\n",
    "ax.axis('tight')\n",
    "ax.axis('off')\n",
    "\n",
    "# Create a table within the plot\n",
    "table = ax.table(cellText=top_emotions_table.values,\n",
    "                rowLabels=top_emotions_table.index,\n",
    "                colLabels=top_emotions_table.columns,\n",
    "                loc='center', cellLoc='center')\n",
    "\n",
    "# Customize the table appearance\n",
    "table.auto_set_font_size(False)\n",
    "table.set_fontsize(8)\n",
    "table.scale(1.5, 1.5)\n",
    "\n",
    "plt.title(\"Top 5 Emotions by Country and Topic\")\n",
    "plt.show()\n"
   ]
  }
 ],
 "metadata": {
  "kernelspec": {
   "display_name": "Python 3",
   "language": "python",
   "name": "python3"
  },
  "language_info": {
   "codemirror_mode": {
    "name": "ipython",
    "version": 3
   },
   "file_extension": ".py",
   "mimetype": "text/x-python",
   "name": "python",
   "nbconvert_exporter": "python",
   "pygments_lexer": "ipython3",
   "version": "3.10.12"
  }
 },
 "nbformat": 4,
 "nbformat_minor": 2
}
