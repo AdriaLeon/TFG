{
 "cells": [
  {
   "cell_type": "markdown",
   "metadata": {},
   "source": [
    "Load the war/abort witch captions dataset"
   ]
  },
  {
   "cell_type": "code",
   "execution_count": 29,
   "metadata": {},
   "outputs": [
    {
     "data": {
      "text/html": [
       "<div>\n",
       "<style scoped>\n",
       "    .dataframe tbody tr th:only-of-type {\n",
       "        vertical-align: middle;\n",
       "    }\n",
       "\n",
       "    .dataframe tbody tr th {\n",
       "        vertical-align: top;\n",
       "    }\n",
       "\n",
       "    .dataframe thead th {\n",
       "        text-align: right;\n",
       "    }\n",
       "</style>\n",
       "<table border=\"1\" class=\"dataframe\">\n",
       "  <thead>\n",
       "    <tr style=\"text-align: right;\">\n",
       "      <th></th>\n",
       "      <th>Unnamed: 0</th>\n",
       "      <th>experiments</th>\n",
       "      <th>total_experiments</th>\n",
       "      <th>total_samples</th>\n",
       "      <th>interface</th>\n",
       "      <th>countries</th>\n",
       "      <th>languages</th>\n",
       "      <th>search_queries</th>\n",
       "      <th>video_id</th>\n",
       "      <th>video_title</th>\n",
       "      <th>...</th>\n",
       "      <th>creator_url</th>\n",
       "      <th>creator_link</th>\n",
       "      <th>user_action_sets</th>\n",
       "      <th>origin_revs</th>\n",
       "      <th>samples</th>\n",
       "      <th>trials</th>\n",
       "      <th>begins</th>\n",
       "      <th>ends</th>\n",
       "      <th>average_order</th>\n",
       "      <th>captions</th>\n",
       "    </tr>\n",
       "  </thead>\n",
       "  <tbody>\n",
       "    <tr>\n",
       "      <th>0</th>\n",
       "      <td>1018</td>\n",
       "      <td>{'general'}</td>\n",
       "      <td>0</td>\n",
       "      <td>0</td>\n",
       "      <td>tk0</td>\n",
       "      <td>{'nl'}</td>\n",
       "      <td>{'en'}</td>\n",
       "      <td>{'anti-war candidate european elections 2024 n...</td>\n",
       "      <td>7304639473243933984</td>\n",
       "      <td>A far-right populist who has previously called...</td>\n",
       "      <td>...</td>\n",
       "      <td>https://www.tiktok.com/@vicenews</td>\n",
       "      <td>&lt;a href='https://www.tiktok.com/@vicenews' tar...</td>\n",
       "      <td>{'general_adversarial5__nl__en__netherlands'}</td>\n",
       "      <td>{'2024-04-28T15:30:00'}</td>\n",
       "      <td>{'3906'}</td>\n",
       "      <td>{'eu24--tk0_scheduled__2024-04-30T06:40:00+00:...</td>\n",
       "      <td>{'2024-04-30T08:14:17.574597'}</td>\n",
       "      <td>{'2024-04-30T08:14:17.574632'}</td>\n",
       "      <td>6.0</td>\n",
       "      <td>An anti Islam politician who wants to ban mo...</td>\n",
       "    </tr>\n",
       "    <tr>\n",
       "      <th>1</th>\n",
       "      <td>1019</td>\n",
       "      <td>{'general'}</td>\n",
       "      <td>0</td>\n",
       "      <td>0</td>\n",
       "      <td>tk0</td>\n",
       "      <td>{'nl'}</td>\n",
       "      <td>{'en'}</td>\n",
       "      <td>{'anti-war candidate european elections 2024 n...</td>\n",
       "      <td>7304691326711385377</td>\n",
       "      <td>New Dutch PM wants Islam banned #itvnews #neth...</td>\n",
       "      <td>...</td>\n",
       "      <td>https://www.tiktok.com/@itvnews</td>\n",
       "      <td>&lt;a href='https://www.tiktok.com/@itvnews' targ...</td>\n",
       "      <td>{'general_adversarial5__nl__en__netherlands'}</td>\n",
       "      <td>{'2024-04-28T15:30:00'}</td>\n",
       "      <td>{'3906'}</td>\n",
       "      <td>{'eu24--tk0_scheduled__2024-04-30T06:40:00+00:...</td>\n",
       "      <td>{'2024-04-30T08:14:17.574597'}</td>\n",
       "      <td>{'2024-04-30T08:14:17.574632'}</td>\n",
       "      <td>3.0</td>\n",
       "      <td>This man wants a ban on the Quran  and to sh...</td>\n",
       "    </tr>\n",
       "    <tr>\n",
       "      <th>2</th>\n",
       "      <td>1020</td>\n",
       "      <td>{'general'}</td>\n",
       "      <td>0</td>\n",
       "      <td>0</td>\n",
       "      <td>tk0</td>\n",
       "      <td>{'nl'}</td>\n",
       "      <td>{'en'}</td>\n",
       "      <td>{'anti-war candidate european elections 2024 n...</td>\n",
       "      <td>7304737421478874400</td>\n",
       "      <td>The anti-Islam populist nicknamed Mozart has j...</td>\n",
       "      <td>...</td>\n",
       "      <td>https://www.tiktok.com/@bbcnews</td>\n",
       "      <td>&lt;a href='https://www.tiktok.com/@bbcnews' targ...</td>\n",
       "      <td>{'general_adversarial5__nl__en__netherlands'}</td>\n",
       "      <td>{'2024-04-28T15:30:00'}</td>\n",
       "      <td>{'3906'}</td>\n",
       "      <td>{'eu24--tk0_scheduled__2024-04-30T06:40:00+00:...</td>\n",
       "      <td>{'2024-04-30T08:14:17.574597'}</td>\n",
       "      <td>{'2024-04-30T08:14:17.574632'}</td>\n",
       "      <td>8.0</td>\n",
       "      <td>Meet Harris Builders,  the guy who just won ...</td>\n",
       "    </tr>\n",
       "    <tr>\n",
       "      <th>3</th>\n",
       "      <td>1021</td>\n",
       "      <td>{'general'}</td>\n",
       "      <td>0</td>\n",
       "      <td>0</td>\n",
       "      <td>tk0</td>\n",
       "      <td>{'nl'}</td>\n",
       "      <td>{'en'}</td>\n",
       "      <td>{'anti-war candidate european elections 2024 n...</td>\n",
       "      <td>7304785915040320801</td>\n",
       "      <td>Geerts Wilders’ far-right Freedom Party has wo...</td>\n",
       "      <td>...</td>\n",
       "      <td>https://www.tiktok.com/@criticalanalysisuk</td>\n",
       "      <td>&lt;a href='https://www.tiktok.com/@criticalanaly...</td>\n",
       "      <td>{'general_adversarial5__nl__en__netherlands'}</td>\n",
       "      <td>{'2024-04-28T15:30:00'}</td>\n",
       "      <td>{'3906'}</td>\n",
       "      <td>{'eu24--tk0_scheduled__2024-04-30T06:40:00+00:...</td>\n",
       "      <td>{'2024-04-30T08:14:17.574597'}</td>\n",
       "      <td>{'2024-04-30T08:14:17.574632'}</td>\n",
       "      <td>0.0</td>\n",
       "      <td>Gert Wilder's far right anti Islam party has...</td>\n",
       "    </tr>\n",
       "    <tr>\n",
       "      <th>4</th>\n",
       "      <td>1022</td>\n",
       "      <td>{'general'}</td>\n",
       "      <td>0</td>\n",
       "      <td>0</td>\n",
       "      <td>tk0</td>\n",
       "      <td>{'nl'}</td>\n",
       "      <td>{'en'}</td>\n",
       "      <td>{'anti-war candidate european elections 2024 n...</td>\n",
       "      <td>7305171428117155104</td>\n",
       "      <td>What do you think of this? Let's treat each ot...</td>\n",
       "      <td>...</td>\n",
       "      <td>https://www.tiktok.com/@tv.dutch</td>\n",
       "      <td>&lt;a href='https://www.tiktok.com/@tv.dutch' tar...</td>\n",
       "      <td>{'general_adversarial5__nl__en__netherlands'}</td>\n",
       "      <td>{'2024-04-28T15:30:00'}</td>\n",
       "      <td>{'3906'}</td>\n",
       "      <td>{'eu24--tk0_scheduled__2024-04-30T06:40:00+00:...</td>\n",
       "      <td>{'2024-04-30T08:14:17.574597'}</td>\n",
       "      <td>{'2024-04-30T08:14:17.574632'}</td>\n",
       "      <td>2.0</td>\n",
       "      <td>Today I have a message for the Turks.  Your ...</td>\n",
       "    </tr>\n",
       "  </tbody>\n",
       "</table>\n",
       "<p>5 rows × 24 columns</p>\n",
       "</div>"
      ],
      "text/plain": [
       "   Unnamed: 0  experiments  total_experiments  total_samples interface  \\\n",
       "0        1018  {'general'}                  0              0       tk0   \n",
       "1        1019  {'general'}                  0              0       tk0   \n",
       "2        1020  {'general'}                  0              0       tk0   \n",
       "3        1021  {'general'}                  0              0       tk0   \n",
       "4        1022  {'general'}                  0              0       tk0   \n",
       "\n",
       "  countries languages                                     search_queries  \\\n",
       "0    {'nl'}    {'en'}  {'anti-war candidate european elections 2024 n...   \n",
       "1    {'nl'}    {'en'}  {'anti-war candidate european elections 2024 n...   \n",
       "2    {'nl'}    {'en'}  {'anti-war candidate european elections 2024 n...   \n",
       "3    {'nl'}    {'en'}  {'anti-war candidate european elections 2024 n...   \n",
       "4    {'nl'}    {'en'}  {'anti-war candidate european elections 2024 n...   \n",
       "\n",
       "              video_id                                        video_title  \\\n",
       "0  7304639473243933984  A far-right populist who has previously called...   \n",
       "1  7304691326711385377  New Dutch PM wants Islam banned #itvnews #neth...   \n",
       "2  7304737421478874400  The anti-Islam populist nicknamed Mozart has j...   \n",
       "3  7304785915040320801  Geerts Wilders’ far-right Freedom Party has wo...   \n",
       "4  7305171428117155104  What do you think of this? Let's treat each ot...   \n",
       "\n",
       "   ...                                 creator_url  \\\n",
       "0  ...            https://www.tiktok.com/@vicenews   \n",
       "1  ...             https://www.tiktok.com/@itvnews   \n",
       "2  ...             https://www.tiktok.com/@bbcnews   \n",
       "3  ...  https://www.tiktok.com/@criticalanalysisuk   \n",
       "4  ...            https://www.tiktok.com/@tv.dutch   \n",
       "\n",
       "                                        creator_link  \\\n",
       "0  <a href='https://www.tiktok.com/@vicenews' tar...   \n",
       "1  <a href='https://www.tiktok.com/@itvnews' targ...   \n",
       "2  <a href='https://www.tiktok.com/@bbcnews' targ...   \n",
       "3  <a href='https://www.tiktok.com/@criticalanaly...   \n",
       "4  <a href='https://www.tiktok.com/@tv.dutch' tar...   \n",
       "\n",
       "                                user_action_sets              origin_revs  \\\n",
       "0  {'general_adversarial5__nl__en__netherlands'}  {'2024-04-28T15:30:00'}   \n",
       "1  {'general_adversarial5__nl__en__netherlands'}  {'2024-04-28T15:30:00'}   \n",
       "2  {'general_adversarial5__nl__en__netherlands'}  {'2024-04-28T15:30:00'}   \n",
       "3  {'general_adversarial5__nl__en__netherlands'}  {'2024-04-28T15:30:00'}   \n",
       "4  {'general_adversarial5__nl__en__netherlands'}  {'2024-04-28T15:30:00'}   \n",
       "\n",
       "    samples                                             trials  \\\n",
       "0  {'3906'}  {'eu24--tk0_scheduled__2024-04-30T06:40:00+00:...   \n",
       "1  {'3906'}  {'eu24--tk0_scheduled__2024-04-30T06:40:00+00:...   \n",
       "2  {'3906'}  {'eu24--tk0_scheduled__2024-04-30T06:40:00+00:...   \n",
       "3  {'3906'}  {'eu24--tk0_scheduled__2024-04-30T06:40:00+00:...   \n",
       "4  {'3906'}  {'eu24--tk0_scheduled__2024-04-30T06:40:00+00:...   \n",
       "\n",
       "                           begins                            ends  \\\n",
       "0  {'2024-04-30T08:14:17.574597'}  {'2024-04-30T08:14:17.574632'}   \n",
       "1  {'2024-04-30T08:14:17.574597'}  {'2024-04-30T08:14:17.574632'}   \n",
       "2  {'2024-04-30T08:14:17.574597'}  {'2024-04-30T08:14:17.574632'}   \n",
       "3  {'2024-04-30T08:14:17.574597'}  {'2024-04-30T08:14:17.574632'}   \n",
       "4  {'2024-04-30T08:14:17.574597'}  {'2024-04-30T08:14:17.574632'}   \n",
       "\n",
       "  average_order                                           captions  \n",
       "0           6.0    An anti Islam politician who wants to ban mo...  \n",
       "1           3.0    This man wants a ban on the Quran  and to sh...  \n",
       "2           8.0    Meet Harris Builders,  the guy who just won ...  \n",
       "3           0.0    Gert Wilder's far right anti Islam party has...  \n",
       "4           2.0    Today I have a message for the Turks.  Your ...  \n",
       "\n",
       "[5 rows x 24 columns]"
      ]
     },
     "execution_count": 29,
     "metadata": {},
     "output_type": "execute_result"
    }
   ],
   "source": [
    "import pandas as pd\n",
    "df = pd.read_csv(\"abortion_war_captions.csv\")\n",
    "df.head()"
   ]
  },
  {
   "cell_type": "markdown",
   "metadata": {},
   "source": [
    "Installing VADER lexicon"
   ]
  },
  {
   "cell_type": "code",
   "execution_count": 30,
   "metadata": {},
   "outputs": [
    {
     "name": "stderr",
     "output_type": "stream",
     "text": [
      "[nltk_data] Downloading package vader_lexicon to\n",
      "[nltk_data]     /home/adri/nltk_data...\n",
      "[nltk_data]   Package vader_lexicon is already up-to-date!\n"
     ]
    },
    {
     "data": {
      "text/plain": [
       "True"
      ]
     },
     "execution_count": 30,
     "metadata": {},
     "output_type": "execute_result"
    }
   ],
   "source": [
    "from nltk.sentiment import SentimentIntensityAnalyzer\n",
    "import nltk\n",
    "\n",
    "# Download VADER if not already installed\n",
    "nltk.download('vader_lexicon')"
   ]
  },
  {
   "cell_type": "markdown",
   "metadata": {},
   "source": [
    "Applying VADER"
   ]
  },
  {
   "cell_type": "code",
   "execution_count": 31,
   "metadata": {},
   "outputs": [],
   "source": [
    "# Initialize the VADER sentiment analyzer\n",
    "sia = SentimentIntensityAnalyzer()\n",
    "\n",
    "# Score from -1 to 1, where -1 is the most negative and 1 the most positive\n",
    "df['sentiment_score'] = df['captions'].astype(str).apply(lambda text: sia.polarity_scores(text)['compound'])"
   ]
  },
  {
   "cell_type": "code",
   "execution_count": 32,
   "metadata": {},
   "outputs": [
    {
     "name": "stdout",
     "output_type": "stream",
     "text": [
      "                                            captions  sentiment_score\n",
      "0    An anti Islam politician who wants to ban mo...           0.8445\n",
      "1    This man wants a ban on the Quran  and to sh...          -0.7040\n",
      "2    Meet Harris Builders,  the guy who just won ...           0.9939\n",
      "3    Gert Wilder's far right anti Islam party has...          -0.9813\n",
      "4    Today I have a message for the Turks.  Your ...          -0.4104\n"
     ]
    }
   ],
   "source": [
    "print(df[['captions', 'sentiment_score']].head())"
   ]
  },
  {
   "cell_type": "markdown",
   "metadata": {},
   "source": [
    "Translation of the scores into a label"
   ]
  },
  {
   "cell_type": "code",
   "execution_count": 33,
   "metadata": {},
   "outputs": [],
   "source": [
    "def categorize_sentiment(score):\n",
    "    if score <= -0.75:\n",
    "        return \"Very Negative\"\n",
    "    elif score <= -0.4:\n",
    "        return \"Negative\"\n",
    "    elif score < 0:\n",
    "        return \"Slightly Negative\"\n",
    "    elif score == 0:\n",
    "        return \"Neutral\"\n",
    "    elif score < 0.4:\n",
    "        return \"Slightly Positive\"\n",
    "    elif score < 0.75:\n",
    "        return \"Positive\"\n",
    "    else:\n",
    "        return \"Very Positive\""
   ]
  },
  {
   "cell_type": "code",
   "execution_count": 34,
   "metadata": {},
   "outputs": [],
   "source": [
    "df['sentiment_category'] = df['sentiment_score'].apply(categorize_sentiment)\n"
   ]
  },
  {
   "cell_type": "markdown",
   "metadata": {},
   "source": [
    "Getting subjectivity of the content"
   ]
  },
  {
   "cell_type": "code",
   "execution_count": 35,
   "metadata": {},
   "outputs": [],
   "source": [
    "from textblob import TextBlob\n",
    "\n",
    "# Function to get subjectivity\n",
    "def get_subjectivity(text):\n",
    "    return TextBlob(text).sentiment.subjectivity"
   ]
  },
  {
   "cell_type": "code",
   "execution_count": 36,
   "metadata": {},
   "outputs": [],
   "source": [
    "df['subjectivity'] = df['captions'].astype(str).apply(get_subjectivity)"
   ]
  },
  {
   "cell_type": "code",
   "execution_count": 37,
   "metadata": {},
   "outputs": [
    {
     "name": "stdout",
     "output_type": "stream",
     "text": [
      "                                            captions  sentiment_score  \\\n",
      "0    An anti Islam politician who wants to ban mo...           0.8445   \n",
      "1    This man wants a ban on the Quran  and to sh...          -0.7040   \n",
      "2    Meet Harris Builders,  the guy who just won ...           0.9939   \n",
      "3    Gert Wilder's far right anti Islam party has...          -0.9813   \n",
      "4    Today I have a message for the Turks.  Your ...          -0.4104   \n",
      "\n",
      "   subjectivity  \n",
      "0      0.398934  \n",
      "1      0.379031  \n",
      "2      0.454266  \n",
      "3      0.522713  \n",
      "4      0.408333  \n"
     ]
    }
   ],
   "source": [
    "print(df[['captions', 'sentiment_score', 'subjectivity']].head())"
   ]
  }
 ],
 "metadata": {
  "kernelspec": {
   "display_name": "Python 3",
   "language": "python",
   "name": "python3"
  },
  "language_info": {
   "codemirror_mode": {
    "name": "ipython",
    "version": 3
   },
   "file_extension": ".py",
   "mimetype": "text/x-python",
   "name": "python",
   "nbconvert_exporter": "python",
   "pygments_lexer": "ipython3",
   "version": "3.10.12"
  }
 },
 "nbformat": 4,
 "nbformat_minor": 2
}
