{
 "cells": [
  {
   "cell_type": "markdown",
   "metadata": {},
   "source": [
    "Import the data"
   ]
  },
  {
   "cell_type": "code",
   "execution_count": null,
   "metadata": {},
   "outputs": [],
   "source": [
    "import pandas as pd\n",
    "df = pd.read_csv(\"content_analysis.csv\")\n",
    "df.head()"
   ]
  },
  {
   "cell_type": "markdown",
   "metadata": {},
   "source": [
    "Create the list of political entities according to their ideologies"
   ]
  },
  {
   "cell_type": "code",
   "execution_count": null,
   "metadata": {},
   "outputs": [],
   "source": [
    "left = [\n",
    "    \"Die Linke\", \"IU\", \"Podemos\", \"PCE\", \"PCF\", \"LFI\", \"PRC\", \"SI\", \"Syriza\",\n",
    "    \"BE\", \"Vänsterpartiet\", \"Vasemmistoliitto\", \"AKEL\", \"PTB/PVDA\", \"KPÖ\",\n",
    "    \"SP\", \"Enhedslisten\", \"Rødt\", \"PST/POP\", \"PIE\", \"The Left\", \"Razem\", \"EFA\",\n",
    "    \"S&D\", \"Renew Europe\"\n",
    "]\n",
    "\n",
    "# TODO: Add more right parties to balance it with the left ones\n",
    "right = [\n",
    "    \"EPP\", \"ECR\", \"PiS\", \"VOX\", \"ID\", \"RN\", \"Lega\", \"FPÖ\", \"Fidesz\", \"Patriots\", \n",
    "    \"ESN\", \"AfD\", \"SPD\", \"Republika\", \"Reconquête\", \"NOWA NADZIEJA\", \"Mi Hazánk\" \n",
    "]"
   ]
  },
  {
   "cell_type": "markdown",
   "metadata": {},
   "source": [
    "Classify entries depending on their idology"
   ]
  },
  {
   "cell_type": "markdown",
   "metadata": {},
   "source": [
    "(Old function)"
   ]
  },
  {
   "cell_type": "code",
   "execution_count": null,
   "metadata": {},
   "outputs": [],
   "source": [
    "import numpy as np\n",
    "\n",
    "def classify_ideology(description):\n",
    "    if not isinstance(description, str):\n",
    "        return np.nan\n",
    "    \n",
    "    # Convert to lowercase so I can find all the matches\n",
    "    description = description.lower()\n",
    "    left_lower = [party.lower() for party in left]\n",
    "    right_lower = [party.lower() for party in right]\n",
    "\n",
    "    # Find for left and right parties on the description\n",
    "    found_left = any(party in description for party in left_lower)\n",
    "    found_right = any(party in description for party in right_lower)\n",
    "\n",
    "    if found_left and not found_right:\n",
    "        return \"left\"\n",
    "    elif found_right and not found_left:\n",
    "        return \"right\"\n",
    "    else:\n",
    "        return np.nan\n"
   ]
  },
  {
   "cell_type": "code",
   "execution_count": null,
   "metadata": {},
   "outputs": [],
   "source": [
    "# df[\"ideology\"] = df[\"description\"].apply(classify_ideology)"
   ]
  },
  {
   "cell_type": "markdown",
   "metadata": {},
   "source": [
    "(New function that indicates the % of right and left parties mentioned)"
   ]
  },
  {
   "cell_type": "code",
   "execution_count": null,
   "metadata": {},
   "outputs": [],
   "source": [
    "import numpy as np\n",
    "\n",
    "def analyze_ideology(description):\n",
    "    if not isinstance(description, str): # Return default values there is no description \n",
    "        return pd.Series([np.nan, 0.0, 0.0])\n",
    "\n",
    "    # Comparisons are done in lower case to avoid skipping matches \n",
    "    description = description.lower()\n",
    "    left_lower = [party.lower() for party in left]\n",
    "    right_lower = [party.lower() for party in right]\n",
    "\n",
    "    # Amount of parties mentioned from each side\n",
    "    found_left = [party for party in left_lower if party in description]\n",
    "    found_right = [party for party in right_lower if party in description]\n",
    "\n",
    "    total_found = len(found_left) + len(found_right)\n",
    "\n",
    "    if total_found == 0:\n",
    "        perc_left = perc_right = 0.0\n",
    "        ideology = \"no mention\"\n",
    "    else:\n",
    "        perc_left = len(found_left) / total_found\n",
    "        perc_right = len(found_right) / total_found\n",
    "        if perc_left > perc_right:\n",
    "            ideology = \"left\"\n",
    "        elif perc_right > perc_left:\n",
    "            ideology = \"right\"\n",
    "        else:\n",
    "            ideology = \"mixed\"\n",
    "\n",
    "    return pd.Series([ideology, perc_left, perc_right])\n",
    "\n",
    "df[[\"ideology\", \"% left\", \"% right\"]] = df[\"description\"].apply(analyze_ideology)\n"
   ]
  },
  {
   "cell_type": "code",
   "execution_count": null,
   "metadata": {},
   "outputs": [],
   "source": [
    "df[[\"ideology\", \"% left\", \"% right\"]] = df[\"description\"].apply(analyze_ideology)"
   ]
  },
  {
   "cell_type": "code",
   "execution_count": null,
   "metadata": {},
   "outputs": [],
   "source": [
    "df.head()"
   ]
  },
  {
   "cell_type": "markdown",
   "metadata": {},
   "source": [
    "Check the amount of videos from each ideology"
   ]
  },
  {
   "cell_type": "code",
   "execution_count": null,
   "metadata": {},
   "outputs": [],
   "source": [
    "# Count occurrences\n",
    "left_count = (df[\"ideology\"] == \"left\").sum()\n",
    "right_count = (df[\"ideology\"] == \"right\").sum()\n",
    "nan_count = (df[\"ideology\"] == \"no mention\").sum()\n",
    "mixed_count = (df[\"ideology\"] == \"mixed\").sum()\n",
    "\n",
    "# Print results\n",
    "print(f\"Left count: {left_count}\")\n",
    "print(f\"Right count: {right_count}\")\n",
    "print(f\"No parties mentioned count: {nan_count}\")\n",
    "print(f\"Mixed count: {mixed_count}\") \n"
   ]
  },
  {
   "cell_type": "markdown",
   "metadata": {},
   "source": [
    "Count likes and followers"
   ]
  },
  {
   "cell_type": "markdown",
   "metadata": {},
   "source": [
    "TODO: Number of views and likes"
   ]
  },
  {
   "cell_type": "code",
   "execution_count": null,
   "metadata": {},
   "outputs": [],
   "source": [
    "import requests\n",
    "import re\n",
    "\n",
    "def get_video_likes_and_creator_followers(video_id: str, creator_id: str):\n",
    "\n",
    "    # Construct video URL and creator URL\n",
    "    video_url = f\"https://www.tiktok.com/@{creator_id}/video/{video_id}\"\n",
    "    creator_url = f\"https://www.tiktok.com/@{creator_id}\"\n",
    "    \n",
    "    # Set up headers to mimic a real browser request\n",
    "    headers = {\n",
    "        \"User-Agent\": \"Mozilla/5.0 (Windows NT 10.0; Win64; x64; rv:109.0) Gecko/20100101 Firefox/118.0\",\n",
    "        \"Referer\": \"https://www.tiktok.com/\",\n",
    "        \"Accept-Language\": \"en-US,en;q=0.9\",\n",
    "        \"Connection\": \"keep-alive\",\n",
    "        \"Accept\": \"text/html,application/xhtml+xml,application/xml;q=0.9,*/*;q=0.8\",\n",
    "        \"Upgrade-Insecure-Requests\": \"1\"\n",
    "    }\n",
    "\n",
    "    # Fetch video page content\n",
    "    try:\n",
    "        video_response = requests.get(video_url, headers=headers)\n",
    "        video_response.raise_for_status()\n",
    "    except requests.exceptions.RequestException as e:\n",
    "        print(f\"Error fetching video page: {e}\")\n",
    "        return None, None\n",
    "\n",
    "    video_html = video_response.text\n",
    "    # Debugging\n",
    "    # print(video_html)\n",
    "    print(f\"Fetched video page HTML for video {video_id}\")\n",
    "\n",
    "    # Extract likes and followers using regex\n",
    "    try:\n",
    "        # TODO: Regex for getting the likes is not working as expected --> Buscar número de likes directamente en el inspector\n",
    "        # TODO: Might be interesting to add views to (even though it might overlap with the order of display)\n",
    "        likes_match = re.search(r'\"likeCount\":(\\d+)', video_html)\n",
    "        if likes_match:\n",
    "            likes = int(likes_match.group(1))\n",
    "        else:\n",
    "            print(f\"Likes not found for video {video_id}\")\n",
    "            likes = None\n",
    "        \n",
    "        # Fetch creator page content to get followers count\n",
    "        creator_response = requests.get(creator_url, headers=headers)\n",
    "        creator_response.raise_for_status()\n",
    "\n",
    "        creator_html = creator_response.text\n",
    "\n",
    "        # Extract followers using regex\n",
    "        followers_match = re.search(r'\"followerCount\":(\\d+)', creator_html)\n",
    "        if followers_match:\n",
    "            followers = int(followers_match.group(1))\n",
    "        else:\n",
    "            print(f\"Followers not found for creator {creator_id}\")\n",
    "            followers = None\n",
    "        \n",
    "        return likes, followers\n",
    "    except Exception as e:\n",
    "        print(f\"Error extracting data for video {video_id} and creator {creator_id}: {e}\")\n",
    "        return None, None\n",
    "\n",
    "\n",
    "def add_likes_and_followers_to_dataframe(df):\n",
    "    \n",
    "    # Initialize new columns\n",
    "    df[\"likes\"] = None\n",
    "    df[\"followers\"] = None\n",
    "\n",
    "    # Loop over rows and extract likes and followers\n",
    "    for index, row in df.iterrows():\n",
    "        video_id = row[\"video_id\"]\n",
    "        creator_id = row[\"creator_id\"]\n",
    "        \n",
    "        likes, followers = get_video_likes_and_creator_followers(video_id, creator_id)\n",
    "        \n",
    "        # Assign the extracted values to the respective columns\n",
    "        df.at[index, \"likes\"] = likes\n",
    "        df.at[index, \"followers\"] = followers\n",
    "\n",
    "    return df\n"
   ]
  },
  {
   "cell_type": "code",
   "execution_count": null,
   "metadata": {},
   "outputs": [],
   "source": [
    "from selenium import webdriver\n",
    "from selenium.webdriver.chrome.options import Options\n",
    "from selenium.webdriver.common.by import By\n",
    "import time\n",
    "import pandas as pd\n",
    "\n",
    "def parse_number(text):\n",
    "    text = text.upper().strip()\n",
    "    if 'K' in text:\n",
    "        return int(float(text.replace('K', '')) * 1_000)\n",
    "    elif 'M' in text:\n",
    "        return int(float(text.replace('M', '')) * 1_000_000)\n",
    "    elif 'B' in text:\n",
    "        return int(float(text.replace('B', '')) * 1_000_000_000)\n",
    "    return int(text.replace(',', ''))\n",
    "\n",
    "def get_video_likes_and_creator_followers_selenium(driver, video_id: str, creator_id: str):\n",
    "    video_url = f\"https://www.tiktok.com/@{creator_id}/video/{video_id}\"\n",
    "    creator_url = f\"https://www.tiktok.com/@{creator_id}\"\n",
    "\n",
    "    likes = None\n",
    "    followers = None\n",
    "\n",
    "    try:\n",
    "        # Cargar página del video\n",
    "        driver.get(video_url)\n",
    "        time.sleep(5)  # esperar a que cargue\n",
    "\n",
    "        # Likes\n",
    "        like_element = driver.find_element(By.CSS_SELECTOR, '[data-e2e=\"like-count\"]')\n",
    "        likes = parse_number(like_element.text)\n",
    "    except Exception as e:\n",
    "        print(f\"Error obteniendo likes para {video_id}: {e}\")\n",
    "\n",
    "    try:\n",
    "        # Cargar página del creador\n",
    "        driver.get(creator_url)\n",
    "        time.sleep(5)\n",
    "\n",
    "        # Seguidores\n",
    "        follower_element = driver.find_element(By.CSS_SELECTOR, '[data-e2e=\"followers-count\"]')\n",
    "        followers = parse_number(follower_element.text)\n",
    "    except Exception as e:\n",
    "        print(f\"Error obteniendo followers para {creator_id}: {e}\")\n",
    "\n",
    "    return likes, followers\n",
    "\n",
    "def add_likes_and_followers_to_dataframe(df):\n",
    "    options = Options()\n",
    "    options.add_argument(\"--headless\")\n",
    "    options.add_argument(\"--disable-gpu\")\n",
    "    options.add_argument(\"--no-sandbox\")\n",
    "    options.add_argument(\"--disable-dev-shm-usage\")\n",
    "    options.add_argument(\"--window-size=1920,1080\")\n",
    "    \n",
    "    driver = webdriver.Chrome(options=options)\n",
    "\n",
    "    df = df.copy()\n",
    "    df[\"likes\"] = None\n",
    "    df[\"followers\"] = None\n",
    "\n",
    "    for index, row in df.iterrows():\n",
    "        video_id = row[\"video_id\"]\n",
    "        creator_id = row[\"creator_id\"]\n",
    "        print(f\"Procesando @{creator_id} / video {video_id}...\")\n",
    "\n",
    "        likes, followers = get_video_likes_and_creator_followers_selenium(driver, video_id, creator_id)\n",
    "\n",
    "        df.at[index, \"likes\"] = likes\n",
    "        df.at[index, \"followers\"] = followers\n",
    "\n",
    "    driver.quit()\n",
    "    return df\n"
   ]
  },
  {
   "cell_type": "code",
   "execution_count": null,
   "metadata": {},
   "outputs": [],
   "source": [
    "example_df = df.head(5)\n",
    "\n",
    "# Enrich the DataFrame with TikTok metrics\n",
    "updated_df = add_likes_and_followers_to_dataframe(example_df)\n",
    "\n",
    "# Show the updated DataFrame\n",
    "print(updated_df)\n"
   ]
  },
  {
   "cell_type": "code",
   "execution_count": null,
   "metadata": {},
   "outputs": [],
   "source": [
    "df = add_likes_and_followers_to_dataframe(df)\n",
    "\n",
    "df.head()\n"
   ]
  },
  {
   "cell_type": "markdown",
   "metadata": {},
   "source": [
    "Store the result"
   ]
  },
  {
   "cell_type": "code",
   "execution_count": null,
   "metadata": {},
   "outputs": [],
   "source": [
    "df.to_csv(\"final_dataset.csv\", index=False)"
   ]
  }
 ],
 "metadata": {
  "kernelspec": {
   "display_name": "Python 3",
   "language": "python",
   "name": "python3"
  },
  "language_info": {
   "codemirror_mode": {
    "name": "ipython",
    "version": 3
   },
   "file_extension": ".py",
   "mimetype": "text/x-python",
   "name": "python",
   "nbconvert_exporter": "python",
   "pygments_lexer": "ipython3",
   "version": "3.10.12"
  }
 },
 "nbformat": 4,
 "nbformat_minor": 2
}
