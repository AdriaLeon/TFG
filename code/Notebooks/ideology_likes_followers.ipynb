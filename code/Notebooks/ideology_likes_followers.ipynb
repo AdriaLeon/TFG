{
 "cells": [
  {
   "cell_type": "markdown",
   "metadata": {},
   "source": [
    "Import the data"
   ]
  },
  {
   "cell_type": "code",
   "execution_count": null,
   "metadata": {},
   "outputs": [],
   "source": [
    "import pandas as pd\n",
    "df = pd.read_csv(\"content_analysis.csv\")\n",
    "df.head()"
   ]
  },
  {
   "cell_type": "markdown",
   "metadata": {},
   "source": [
    "Create the list of political entities according to their ideologies"
   ]
  },
  {
   "cell_type": "code",
   "execution_count": null,
   "metadata": {},
   "outputs": [],
   "source": [
    "left = [\n",
    "    \"Die Linke\", \"IU\", \"Podemos\", \"PCE\", \"PCF\", \"LFI\", \"PRC\", \"SI\", \"Syriza\",\n",
    "    \"BE\", \"Vänsterpartiet\", \"Vasemmistoliitto\", \"AKEL\", \"PTB/PVDA\", \"KPÖ\",\n",
    "    \"SP\", \"Enhedslisten\", \"Rødt\", \"PST/POP\", \"PIE\", \"The Left\", \"Razem\", \"EFA\",\n",
    "    \"S&D\", \"Renew Europe\"\n",
    "]\n",
    "\n",
    "# TODO: Add more right parties to balance it with the left ones\n",
    "right = [\n",
    "    \"EPP\", \"ECR\", \"PiS\", \"VOX\", \"ID\", \"RN\", \"Lega\", \"FPÖ\", \"Fidesz\", \"Patriots\", \n",
    "    \"ESN\", \"AfD\", \"SPD\", \"Republika\", \"Reconquête\", \"NOWA NADZIEJA\", \"Mi Hazánk\" \n",
    "]"
   ]
  },
  {
   "cell_type": "markdown",
   "metadata": {},
   "source": [
    "Classify entries depending on their idology"
   ]
  },
  {
   "cell_type": "markdown",
   "metadata": {},
   "source": [
    "(Old function)"
   ]
  },
  {
   "cell_type": "code",
   "execution_count": null,
   "metadata": {},
   "outputs": [],
   "source": [
    "import numpy as np\n",
    "\n",
    "def classify_ideology(description):\n",
    "    if not isinstance(description, str):\n",
    "        return np.nan\n",
    "    \n",
    "    # Convert to lowercase so I can find all the matches\n",
    "    description = description.lower()\n",
    "    left_lower = [party.lower() for party in left]\n",
    "    right_lower = [party.lower() for party in right]\n",
    "\n",
    "    # Find for left and right parties on the description\n",
    "    found_left = any(party in description for party in left_lower)\n",
    "    found_right = any(party in description for party in right_lower)\n",
    "\n",
    "    if found_left and not found_right:\n",
    "        return \"left\"\n",
    "    elif found_right and not found_left:\n",
    "        return \"right\"\n",
    "    else:\n",
    "        return np.nan\n"
   ]
  },
  {
   "cell_type": "code",
   "execution_count": null,
   "metadata": {},
   "outputs": [],
   "source": [
    "# df[\"ideology\"] = df[\"description\"].apply(classify_ideology)"
   ]
  },
  {
   "cell_type": "markdown",
   "metadata": {},
   "source": [
    "(New function that indicates the % of right and left parties mentioned)"
   ]
  },
  {
   "cell_type": "code",
   "execution_count": null,
   "metadata": {},
   "outputs": [],
   "source": [
    "import numpy as np\n",
    "\n",
    "def analyze_ideology(description):\n",
    "    if not isinstance(description, str): # Return default values there is no description \n",
    "        return pd.Series([np.nan, 0.0, 0.0])\n",
    "\n",
    "    # Comparisons are done in lower case to avoid skipping matches \n",
    "    description = description.lower()\n",
    "    left_lower = [party.lower() for party in left]\n",
    "    right_lower = [party.lower() for party in right]\n",
    "\n",
    "    # Amount of parties mentioned from each side\n",
    "    found_left = [party for party in left_lower if party in description]\n",
    "    found_right = [party for party in right_lower if party in description]\n",
    "\n",
    "    total_found = len(found_left) + len(found_right)\n",
    "\n",
    "    if total_found == 0:\n",
    "        perc_left = perc_right = 0.0\n",
    "        ideology = \"no mention\"\n",
    "    else:\n",
    "        perc_left = len(found_left) / total_found\n",
    "        perc_right = len(found_right) / total_found\n",
    "        if perc_left > perc_right:\n",
    "            ideology = \"left\"\n",
    "        elif perc_right > perc_left:\n",
    "            ideology = \"right\"\n",
    "        else:\n",
    "            ideology = \"mixed\"\n",
    "\n",
    "    return pd.Series([ideology, perc_left, perc_right])\n",
    "\n",
    "df[[\"ideology\", \"% left\", \"% right\"]] = df[\"description\"].apply(analyze_ideology)\n"
   ]
  },
  {
   "cell_type": "code",
   "execution_count": null,
   "metadata": {},
   "outputs": [],
   "source": [
    "df[[\"ideology\", \"% left\", \"% right\"]] = df[\"description\"].apply(analyze_ideology)"
   ]
  },
  {
   "cell_type": "code",
   "execution_count": null,
   "metadata": {},
   "outputs": [],
   "source": [
    "df.head()"
   ]
  },
  {
   "cell_type": "markdown",
   "metadata": {},
   "source": [
    "Verify there exist videos with the ideology column filled"
   ]
  },
  {
   "cell_type": "code",
   "execution_count": null,
   "metadata": {},
   "outputs": [],
   "source": [
    "# Count occurrences\n",
    "left_count = (df[\"ideology\"] == \"left\").sum()\n",
    "right_count = (df[\"ideology\"] == \"right\").sum()\n",
    "nan_count = (df[\"ideology\"] == \"no mention\").sum()\n",
    "mixed_count = (df[\"ideology\"] == \"mixed\").sum()\n",
    "\n",
    "# Print results\n",
    "print(f\"Left count: {left_count}\")\n",
    "print(f\"Right count: {right_count}\")\n",
    "print(f\"No parties mentioned count: {nan_count}\")\n",
    "print(f\"Mixed count: {mixed_count}\") \n"
   ]
  },
  {
   "cell_type": "markdown",
   "metadata": {},
   "source": [
    "Count likes and followers"
   ]
  },
  {
   "cell_type": "markdown",
   "metadata": {},
   "source": [
    "TODO: Number of views and likes"
   ]
  },
  {
   "cell_type": "code",
   "execution_count": null,
   "metadata": {},
   "outputs": [],
   "source": [
    "import requests\n",
    "import re\n",
    "\n",
    "def get_video_likes_and_creator_followers(video_id: str, creator_id: str):\n",
    "\n",
    "    # Construct video URL and creator URL\n",
    "    video_url = f\"https://www.tiktok.com/@{creator_id}/video/{video_id}\"\n",
    "    creator_url = f\"https://www.tiktok.com/@{creator_id}\"\n",
    "    \n",
    "    # Set up headers to mimic a real browser request\n",
    "    headers = {\n",
    "        \"User-Agent\": \"Mozilla/5.0 (Windows NT 10.0; Win64; x64; rv:109.0) Gecko/20100101 Firefox/118.0\",\n",
    "        \"Referer\": \"https://www.tiktok.com/\",\n",
    "        \"Accept-Language\": \"en-US,en;q=0.9\",\n",
    "        \"Connection\": \"keep-alive\",\n",
    "        \"Accept\": \"text/html,application/xhtml+xml,application/xml;q=0.9,*/*;q=0.8\",\n",
    "        \"Upgrade-Insecure-Requests\": \"1\"\n",
    "    }\n",
    "\n",
    "    # Fetch video page content\n",
    "    try:\n",
    "        video_response = requests.get(video_url, headers=headers)\n",
    "        video_response.raise_for_status()\n",
    "    except requests.exceptions.RequestException as e:\n",
    "        print(f\"Error fetching video page: {e}\")\n",
    "        return None, None\n",
    "\n",
    "    video_html = video_response.text\n",
    "    # Debugging\n",
    "    # print(video_html)\n",
    "    print(f\"Fetched video page HTML for video {video_id}\")\n",
    "\n",
    "    # Extract likes and followers using regex\n",
    "    try:\n",
    "        # TODO: Regex for getting the likes is not working as expected --> Buscar número de likes directamente en el inspeccionador\n",
    "        # TODO: Might be interesting to add views to (even though it might overlap with the order of display)\n",
    "        likes_match = re.search(r'\"likeCount\":(\\d+)', video_html)\n",
    "        if likes_match:\n",
    "            likes = int(likes_match.group(1))\n",
    "        else:\n",
    "            print(f\"Likes not found for video {video_id}\")\n",
    "            likes = None\n",
    "        \n",
    "        # Fetch creator page content to get followers count\n",
    "        creator_response = requests.get(creator_url, headers=headers)\n",
    "        creator_response.raise_for_status()\n",
    "\n",
    "        creator_html = creator_response.text\n",
    "\n",
    "        # Extract followers using regex\n",
    "        followers_match = re.search(r'\"followerCount\":(\\d+)', creator_html)\n",
    "        if followers_match:\n",
    "            followers = int(followers_match.group(1))\n",
    "        else:\n",
    "            print(f\"Followers not found for creator {creator_id}\")\n",
    "            followers = None\n",
    "        \n",
    "        return likes, followers\n",
    "    except Exception as e:\n",
    "        print(f\"Error extracting data for video {video_id} and creator {creator_id}: {e}\")\n",
    "        return None, None\n",
    "\n",
    "\n",
    "def add_likes_and_followers_to_dataframe(df):\n",
    "    \n",
    "    # Initialize new columns\n",
    "    df[\"likes\"] = None\n",
    "    df[\"followers\"] = None\n",
    "\n",
    "    # Loop over rows and extract likes and followers\n",
    "    for index, row in df.iterrows():\n",
    "        video_id = row[\"video_id\"]\n",
    "        creator_id = row[\"creator_id\"]\n",
    "        \n",
    "        likes, followers = get_video_likes_and_creator_followers(video_id, creator_id)\n",
    "        \n",
    "        # Assign the extracted values to the respective columns\n",
    "        df.at[index, \"likes\"] = likes\n",
    "        df.at[index, \"followers\"] = followers\n",
    "\n",
    "    return df\n"
   ]
  },
  {
   "cell_type": "code",
   "execution_count": null,
   "metadata": {},
   "outputs": [],
   "source": [
    "import requests\n",
    "import re\n",
    "import time\n",
    "\n",
    "BRIGHT_DATA_TOKEN = \"92be3fc2e5d31a6c032351b191144a49188db0acc2fe8cdf1826aef53b7955db\"\n",
    "\n",
    "def fetch_with_brightdata_api(url: str):\n",
    "    endpoint = \"https://api.brightdata.com/dca/trigger?collector=collector=c_m98cupe4qxamrdxk5\"\n",
    "\n",
    "    payload = {\n",
    "        \"url\": url\n",
    "    }\n",
    "\n",
    "    headers = {\n",
    "        \"Authorization\": f\"Bearer {BRIGHT_DATA_TOKEN}\",\n",
    "        \"Content-Type\": \"application/json\"\n",
    "    }\n",
    "\n",
    "    try:\n",
    "        # Trigger collection\n",
    "        trigger_response = requests.post(endpoint, json=payload, headers=headers)\n",
    "        trigger_response.raise_for_status()\n",
    "        job = trigger_response.json()\n",
    "        job_id = job.get(\"collection_id\")\n",
    "\n",
    "        if not job_id:\n",
    "            print(\"Failed to get job ID.\")\n",
    "            return None\n",
    "\n",
    "        # Poll for completion (simple polling)\n",
    "        result_url = f\"https://api.brightdata.com/dca/results?collector=c_m98cupe4qxamrdxk5&collection_id={job_id}\"\n",
    "        for _ in range(10):\n",
    "            result = requests.get(result_url, headers=headers)\n",
    "            if result.status_code == 200 and result.json():\n",
    "                return result.text\n",
    "            time.sleep(2)\n",
    "\n",
    "        print(\"Timed out waiting for Bright Data job result.\")\n",
    "        return None\n",
    "    except requests.RequestException as e:\n",
    "        print(f\"Bright Data API error: {e}\")\n",
    "        return None\n",
    "\n",
    "\n",
    "def get_video_stats(video_id: str, creator_id: str):\n",
    "    video_url = f\"https://www.tiktok.com/@{creator_id}/video/{video_id}\"\n",
    "    creator_url = f\"https://www.tiktok.com/@{creator_id}\"\n",
    "\n",
    "    video_html = fetch_with_brightdata_api(video_url)\n",
    "    creator_html = fetch_with_brightdata_api(creator_url)\n",
    "\n",
    "    if not video_html or not creator_html:\n",
    "        return None, None, None\n",
    "\n",
    "    try:\n",
    "        likes_match = re.search(r'\"likeCount\":(\\d+)', video_html)\n",
    "        views_match = re.search(r'\"playCount\":(\\d+)', video_html)\n",
    "        followers_match = re.search(r'\"followerCount\":(\\d+)', creator_html)\n",
    "\n",
    "        likes = int(likes_match.group(1)) if likes_match else None\n",
    "        views = int(views_match.group(1)) if views_match else None\n",
    "        followers = int(followers_match.group(1)) if followers_match else None\n",
    "\n",
    "        return likes, views, followers\n",
    "    except Exception as e:\n",
    "        print(f\"Error parsing data: {e}\")\n",
    "        return None, None, None\n",
    "\n",
    "def add_likes_and_followers_to_dataframe(df):\n",
    "    \n",
    "    # Initialize new columns\n",
    "    df[\"likes\"] = None\n",
    "    df[\"followers\"] = None\n",
    "    df[\"views\"] = None\n",
    "\n",
    "    # Loop over rows and extract likes and followers\n",
    "    for index, row in df.iterrows():\n",
    "        video_id = row[\"video_id\"]\n",
    "        creator_id = row[\"creator_id\"]\n",
    "        \n",
    "        likes, views, followers = get_video_stats(video_id, creator_id)\n",
    "        \n",
    "        # Assign the extracted values to the respective columns\n",
    "        df.at[index, \"likes\"] = likes\n",
    "        df.at[index, \"followers\"] = followers\n",
    "        df.at[index, \"views\"] = views\n",
    "\n",
    "    return df"
   ]
  },
  {
   "cell_type": "code",
   "execution_count": null,
   "metadata": {},
   "outputs": [],
   "source": [
    "example_df = df.head(5)\n",
    "\n",
    "# Enrich the DataFrame with TikTok metrics\n",
    "updated_df = add_likes_and_followers_to_dataframe(example_df)\n",
    "\n",
    "# Show the updated DataFrame\n",
    "print(updated_df)\n"
   ]
  },
  {
   "cell_type": "code",
   "execution_count": null,
   "metadata": {},
   "outputs": [],
   "source": [
    "df = add_likes_and_followers_to_dataframe(df)\n",
    "\n",
    "df.head()\n"
   ]
  },
  {
   "cell_type": "markdown",
   "metadata": {},
   "source": [
    "Store the result"
   ]
  },
  {
   "cell_type": "code",
   "execution_count": null,
   "metadata": {},
   "outputs": [],
   "source": [
    "df.to_csv(\"final_dataset.csv\", index=False)"
   ]
  }
 ],
 "metadata": {
  "kernelspec": {
   "display_name": "Python 3",
   "language": "python",
   "name": "python3"
  },
  "language_info": {
   "codemirror_mode": {
    "name": "ipython",
    "version": 3
   },
   "file_extension": ".py",
   "mimetype": "text/x-python",
   "name": "python",
   "nbconvert_exporter": "python",
   "pygments_lexer": "ipython3",
   "version": "3.10.12"
  }
 },
 "nbformat": 4,
 "nbformat_minor": 2
}
