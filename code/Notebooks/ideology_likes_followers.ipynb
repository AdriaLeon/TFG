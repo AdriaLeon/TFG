{
 "cells": [
  {
   "cell_type": "markdown",
   "metadata": {},
   "source": [
    "Import the data"
   ]
  },
  {
   "cell_type": "code",
   "execution_count": null,
   "metadata": {},
   "outputs": [],
   "source": [
    "import pandas as pd\n",
    "df = pd.read_csv(\"content_analysis.csv\")\n",
    "df.head()"
   ]
  },
  {
   "cell_type": "markdown",
   "metadata": {},
   "source": [
    "Create the list of political entities according to their ideologies"
   ]
  },
  {
   "cell_type": "code",
   "execution_count": null,
   "metadata": {},
   "outputs": [],
   "source": [
    "left = [\n",
    "    \"Die Linke\", \"IU\", \"Podemos\", \"PCE\", \"PCF\", \"LFI\", \"PRC\", \"SI\", \"Syriza\",\n",
    "    \"BE\", \"Vänsterpartiet\", \"Vasemmistoliitto\", \"AKEL\", \"PTB/PVDA\", \"KPÖ\",\n",
    "    \"SP\", \"Enhedslisten\", \"Rødt\", \"PST/POP\", \"PIE\", \"The Left\", \"Razem\", \"EFA\",\n",
    "    \"S&D\", \"Renew Europe\"\n",
    "]\n",
    "\n",
    "# TODO: Add more right parties to balance it with the left ones\n",
    "right = [\n",
    "    \"EPP\", \"ECR\", \"PiS\", \"VOX\", \"ID\", \"RN\", \"Lega\", \"FPÖ\", \"Fidesz\", \"Patriots\", \n",
    "    \"ESN\", \"AfD\", \"SPD\", \"Republika\", \"Reconquête\", \"NOWA NADZIEJA\", \"Mi Hazánk\" \n",
    "]"
   ]
  },
  {
   "cell_type": "markdown",
   "metadata": {},
   "source": [
    "Classify entries depending on their idology"
   ]
  },
  {
   "cell_type": "code",
   "execution_count": null,
   "metadata": {},
   "outputs": [],
   "source": [
    "import numpy as np\n",
    "\n",
    "def classify_ideology(description):\n",
    "    if not isinstance(description, str):\n",
    "        return np.nan\n",
    "    \n",
    "    # Convert to lowercase so I can find all the matches\n",
    "    description = description.lower()\n",
    "    left_lower = [party.lower() for party in left]\n",
    "    right_lower = [party.lower() for party in right]\n",
    "\n",
    "    # Find for left and right parties on the description\n",
    "    found_left = any(party in description for party in left_lower)\n",
    "    found_right = any(party in description for party in right_lower)\n",
    "\n",
    "    if found_left and not found_right:\n",
    "        return \"left\"\n",
    "    elif found_right and not found_left:\n",
    "        return \"right\"\n",
    "    else:\n",
    "        return np.nan\n"
   ]
  },
  {
   "cell_type": "code",
   "execution_count": null,
   "metadata": {},
   "outputs": [],
   "source": [
    "df[\"ideology\"] = df[\"description\"].apply(classify_ideology)"
   ]
  },
  {
   "cell_type": "markdown",
   "metadata": {},
   "source": [
    "Verify there exist videos with the ideology column filled"
   ]
  },
  {
   "cell_type": "code",
   "execution_count": null,
   "metadata": {},
   "outputs": [],
   "source": [
    "# Count occurrences\n",
    "left_count = (df[\"ideology\"] == \"left\").sum()\n",
    "right_count = (df[\"ideology\"] == \"right\").sum()\n",
    "nan_count = df[\"ideology\"].isna().sum()\n",
    "\n",
    "# Print results\n",
    "print(f\"Left count: {left_count}\")\n",
    "print(f\"Right count: {right_count}\")\n",
    "print(f\"NaN count: {nan_count}\")\n"
   ]
  },
  {
   "cell_type": "markdown",
   "metadata": {},
   "source": [
    "Count likes and followers"
   ]
  },
  {
   "cell_type": "markdown",
   "metadata": {},
   "source": [
    "TODO: Number of views and likes"
   ]
  },
  {
   "cell_type": "code",
   "execution_count": null,
   "metadata": {},
   "outputs": [],
   "source": [
    "import requests\n",
    "import re\n",
    "\n",
    "def get_video_likes_and_creator_followers(video_id: str, creator_id: str):\n",
    "\n",
    "    # Construct video URL and creator URL\n",
    "    video_url = f\"https://www.tiktok.com/@{creator_id}/video/{video_id}\"\n",
    "    creator_url = f\"https://www.tiktok.com/@{creator_id}\"\n",
    "    \n",
    "    # Set up headers to mimic a real browser request\n",
    "    headers = {\n",
    "        \"User-Agent\": \"Mozilla/5.0 (Windows NT 10.0; Win64; x64; rv:109.0) Gecko/20100101 Firefox/118.0\",\n",
    "        \"Referer\": \"https://www.tiktok.com/\",\n",
    "        \"Accept-Language\": \"en-US,en;q=0.9\",\n",
    "        \"Connection\": \"keep-alive\",\n",
    "        \"Accept\": \"text/html,application/xhtml+xml,application/xml;q=0.9,*/*;q=0.8\",\n",
    "        \"Upgrade-Insecure-Requests\": \"1\"\n",
    "    }\n",
    "\n",
    "    # Fetch video page content\n",
    "    try:\n",
    "        video_response = requests.get(video_url, headers=headers)\n",
    "        video_response.raise_for_status()\n",
    "    except requests.exceptions.RequestException as e:\n",
    "        print(f\"Error fetching video page: {e}\")\n",
    "        return None, None\n",
    "\n",
    "    video_html = video_response.text\n",
    "    # Debugging\n",
    "    # print(video_html)\n",
    "    print(f\"Fetched video page HTML for video {video_id}\")\n",
    "\n",
    "    # Extract likes and followers using regex\n",
    "    try:\n",
    "        # Search for likes (TODO: regex must be verified)\n",
    "        likes_match = re.search(r'\"likeCount\":(\\d+)', video_html)\n",
    "        if likes_match:\n",
    "            likes = int(likes_match.group(1))\n",
    "        else:\n",
    "            print(f\"Likes not found for video {video_id}\")\n",
    "            likes = None\n",
    "        \n",
    "        # Fetch creator page content to get followers count\n",
    "        creator_response = requests.get(creator_url, headers=headers)\n",
    "        creator_response.raise_for_status()\n",
    "\n",
    "        creator_html = creator_response.text\n",
    "\n",
    "        # Extract followers using regex\n",
    "        followers_match = re.search(r'\"followerCount\":(\\d+)', creator_html)\n",
    "        if followers_match:\n",
    "            followers = int(followers_match.group(1))\n",
    "        else:\n",
    "            print(f\"Followers not found for creator {creator_id}\")\n",
    "            followers = None\n",
    "        \n",
    "        return likes, followers\n",
    "    except Exception as e:\n",
    "        print(f\"Error extracting data for video {video_id} and creator {creator_id}: {e}\")\n",
    "        return None, None\n",
    "\n",
    "\n",
    "def add_likes_and_followers_to_dataframe(df):\n",
    "    \n",
    "    # Initialize new columns\n",
    "    df[\"likes\"] = None\n",
    "    df[\"followers\"] = None\n",
    "\n",
    "    # Loop over rows and extract likes and followers\n",
    "    for index, row in df.iterrows():\n",
    "        video_id = row[\"video_id\"]\n",
    "        creator_id = row[\"creator_id\"]\n",
    "        \n",
    "        likes, followers = get_video_likes_and_creator_followers(video_id, creator_id)\n",
    "        \n",
    "        # Assign the extracted values to the respective columns\n",
    "        df.at[index, \"likes\"] = likes\n",
    "        df.at[index, \"followers\"] = followers\n",
    "\n",
    "    return df\n"
   ]
  },
  {
   "cell_type": "code",
   "execution_count": null,
   "metadata": {},
   "outputs": [],
   "source": [
    "# example_df = df.head(5)"
   ]
  },
  {
   "cell_type": "code",
   "execution_count": null,
   "metadata": {},
   "outputs": [],
   "source": [
    "df = add_likes_and_followers_to_dataframe(df)\n",
    "\n",
    "df.head()\n"
   ]
  },
  {
   "cell_type": "markdown",
   "metadata": {},
   "source": [
    "Store the result"
   ]
  },
  {
   "cell_type": "code",
   "execution_count": null,
   "metadata": {},
   "outputs": [],
   "source": [
    "df.to_csv(\"final_dataset.csv\", index=False)"
   ]
  }
 ],
 "metadata": {
  "kernelspec": {
   "display_name": "Python 3",
   "language": "python",
   "name": "python3"
  },
  "language_info": {
   "codemirror_mode": {
    "name": "ipython",
    "version": 3
   },
   "file_extension": ".py",
   "mimetype": "text/x-python",
   "name": "python",
   "nbconvert_exporter": "python",
   "pygments_lexer": "ipython3",
   "version": "3.10.12"
  }
 },
 "nbformat": 4,
 "nbformat_minor": 2
}
